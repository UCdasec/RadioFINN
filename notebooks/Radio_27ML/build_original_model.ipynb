{ 
  cell [
  {
   "cell_type": "markdown",
   "id": "affiliated-chrome",
   "metadata": {},
   "source": [
    "# Phu: the following are my suggested framework for this notebook <a id='load_dataset'></a>\n",
    "\n",
    "- 1. Describe how to load the dataset (with the code)\n",
    "- 2. Describe how you train the original model (with the code)\n",
    "- 3. Report the test results of the trained model (with the code)\n",
    "\n"
   ]
  }
  ]
}
