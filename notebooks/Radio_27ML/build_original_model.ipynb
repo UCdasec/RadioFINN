
Phu: the following are my suggested framework for this notebook 

1. Describe how to load the dataset (with the code). 

2. Describe how you train the original model (with the code).  

3. Report the test results of the trained model (with the code). 
