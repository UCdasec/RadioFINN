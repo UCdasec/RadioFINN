{
 "cells": [
  {
   "cell_type": "markdown",
   "metadata": {},
   "source": [
    "# Radio Modulation Classification with FINN - Notebook #2 of 5\n",
    "\n",
    "### Overview \n",
    "In this Notebook we again load the dataset and create our dataloader. Then we:\n",
    "1. Define our model using Brevitas\n",
    "2. Train, and test our new Brevitas model!\n",
    "\n",
    "Portions of this notebook that have been covered in the previous notebook will have much less description (such as the dataloader). The more information please see the Tutorial1_Dataset_and_Vanilla_model.ipynb file!\n",
    "\n",
    "### FINN Pipeline Map\n",
    "Throughout these notebooks, you will begin to understand the FINN pipeline! In order the pipeline is:\n",
    "1. Dataset and Vanilla model\n",
    "2. **Brevitas Model** (you are here)\n",
    "3. Transforming the Brevitas Model to tidy.onnx\n",
    "4. Transforming tidy.onnx to bitstream\n",
    "5. Loading the bitstream on the FPGA!\n",
    "\n",
    "We are in **2. Brevitas Model.** This notebook will show you how to define a VGG-10 model using the Brevitas Framework, which allows us to quantize the model (i.e make a smaller model). Having a quantized model is required for the next steps of the pipeline!\n"
   ]
  },
  {
   "cell_type": "markdown",
   "metadata": {},
   "source": [
    "### Packages, and Data \n",
    "First we import the required packages and create the dataloader for the dataset. The details of this are explained in Notebook 1."
   ]
  },
  {
   "cell_type": "code",
   "execution_count": 1,
   "metadata": {},
   "outputs": [],
   "source": [
    "# Import required pacakages \n",
    "import torch\n",
    "import numpy as np\n",
    "import matplotlib.pyplot as plt\n",
    "from pathlib import Path\n",
    "from tqdm.notebook import tqdm\n",
    "import time"
   ]
  },
  {
   "cell_type": "code",
   "execution_count": 2,
   "metadata": {},
   "outputs": [],
   "source": [
    "# Using cuda \n",
    "assert torch.cuda.is_available(), 'Cuda not available'\n",
    "gpu = 'cuda'"
   ]
  },
  {
   "cell_type": "code",
   "execution_count": 3,
   "metadata": {},
   "outputs": [
    {
     "data": {
      "text/plain": [
       "True"
      ]
     },
     "execution_count": 3,
     "metadata": {},
     "output_type": "execute_result"
    }
   ],
   "source": [
    "# Check if dataset is present\n",
    "import os.path\n",
    "dataset_path = \"datasets/RADIOML_2021_07_INT8.hdf5\"\n",
    "os.path.isfile(dataset_path)"
   ]
  },
  {
   "cell_type": "code",
   "execution_count": 4,
   "metadata": {},
   "outputs": [
    {
     "name": "stdout",
     "output_type": "stream",
     "text": [
      "Value range:  -112     127    int8\n",
      "Total mods:  27\n",
      "Number of SNRs:  26\n",
      "Number of frames per each SNR-Modulation combination:  4096.0\n",
      "SNRs:  [-20. -18. -16. -14. -12. -10.  -8.  -6.  -4.  -2.   0.   2.   4.   6.\n",
      "   8.  10.  12.  14.  16.  18.  20.  22.  24.  26.  28.  30.]  \n",
      "\n",
      "Total size:  (2875392, 1024, 2)\n",
      "Training set size:  2587572\n",
      "Test/Val set size:  287820\n"
     ]
    }
   ],
   "source": [
    "# Prepare data loader\n",
    "from torch.utils.data import Dataset, DataLoader\n",
    "import h5py\n",
    "\n",
    "class radioml_21_dataset(Dataset):\n",
    "    def __init__(self, dataset_path):\n",
    "        super(radioml_21_dataset, self).__init__()\n",
    "        h5_file = h5py.File(dataset_path,'r')\n",
    "        self.data = h5_file['X']\n",
    "        self.mod = np.argmax(h5_file['Y'], axis=1) # comes in one-hot encoding\n",
    "        self.snr = h5_file['Z'][:,0]\n",
    "        self.len = self.data.shape[0]\n",
    "\n",
    "        self.mod_classes = [\n",
    "                \"OOK\",\n",
    "                \"4ASK\",\n",
    "                \"8ASK\",\n",
    "                \"BPSK\",\n",
    "                \"QPSK\",\n",
    "                \"8PSK\",\n",
    "                \"16PSK\",\n",
    "                \"32PSK\",\n",
    "                \"16APSK\",\n",
    "                \"32APSK\",\n",
    "                \"64APSK\",\n",
    "                \"128APSK\",\n",
    "                \"16QAM\",\n",
    "                \"32QAM\",\n",
    "                \"64QAM\",\n",
    "                \"128QAM\",\n",
    "                \"256QAM\",\n",
    "                \"AM-SSB-WC\",\n",
    "                \"AM-SSB-SC\",\n",
    "                \"AM-DSB-WC\",\n",
    "                \"AM-DSB-SC\",\n",
    "                \"FM\",\n",
    "                \"GMSK\",\n",
    "                \"OQPSK\",\n",
    "                \"BFSK\",\n",
    "                \"4FSK\",\n",
    "                \"8FSK\",\n",
    "            ]\n",
    "        self.num_classes=len(self.mod_classes)\n",
    "        self.snr_classes = np.arange(-20., 32., 2) # -20dB to 30dB, with step of 2 --> 26 snrs\n",
    "\n",
    "        np.random.seed(2021)\n",
    "\n",
    "        train_indices = []\n",
    "        test_indices = []\n",
    "        for mod in range(0, len(self.mod_classes)): # all modulations (0 to 26)\n",
    "            for snr_idx in range(0, 26): # all SNRs (0 to 25 = -20dB to +30dB)\n",
    "                # raw dataset holds frames strictly ordered by modulation and SNR\n",
    "                # We order the dataset to each mod-snr pair combination for better access of each frame\n",
    "                # Specifically we divide the dataset into 27 mods group,\n",
    "                #   and for each group we divide into 26 SNRs,\n",
    "                # For each modulation-snr pair combination, we have 4096 frames. (27*26*4096 = 2875392)\n",
    "                # For better analogy, its basically a triple for-loop, with the outer most loop being 27 mods,\n",
    "                #                                                           then the middle being 26 SNRs,\n",
    "                #                                                           then inner most being 4096 samples\n",
    "                # Basically [0[0[0...4095] ...25]...26] with a length of 2875392\n",
    "                start_idx = 26*4096*mod + 4096*snr_idx \n",
    "                indices_subclass = list(range(start_idx, start_idx+4096))\n",
    "                \n",
    "                # 90%/10% training/test split, applied evenly for each mod-SNR pair\n",
    "                split = int(np.ceil(0.1 * 4096)) \n",
    "                np.random.shuffle(indices_subclass)\n",
    "                train_indices_subclass = indices_subclass[split:]\n",
    "                test_indices_subclass = indices_subclass[:split]\n",
    "                \n",
    "                # you could train on a subset of the data, e.g. based on the SNR\n",
    "                # here we use all available training samples\n",
    "                if snr_idx >= 0:\n",
    "                    train_indices.extend(train_indices_subclass)\n",
    "                test_indices.extend(test_indices_subclass)\n",
    "                \n",
    "        self.train_sampler = torch.utils.data.SubsetRandomSampler(train_indices)\n",
    "        self.test_sampler = torch.utils.data.SubsetRandomSampler(test_indices)\n",
    "\n",
    "    def __getitem__(self, idx):\n",
    "        # transpose frame into Pytorch channels-first format (NCL = -1,2,1024)\n",
    "        return self.data[idx].transpose(), self.mod[idx], self.snr[idx]\n",
    "\n",
    "    def __len__(self):\n",
    "        return self.len\n",
    "\n",
    "dataset = radioml_21_dataset(dataset_path) \n",
    "print('Value range: ', np.min(dataset.data),'   ',np.max(dataset.data),'  ',dataset.data.dtype) #The total range of int8 is [-127,128]\n",
    "print('Total mods: ',dataset.num_classes)\n",
    "print('Number of SNRs: ',len(dataset.snr_classes))\n",
    "print('Number of frames per each SNR-Modulation combination: ',dataset.data.shape[0]/(dataset.num_classes*len(dataset.snr_classes)))\n",
    "print('SNRs: ',dataset.snr_classes,' \\n')\n",
    "print('Total size: ',dataset.data.shape)\n",
    "print('Training set size: ',len(dataset.train_sampler))\n",
    "print('Test/Val set size: ',len(dataset.test_sampler))"
   ]
  },
  {
   "cell_type": "markdown",
   "metadata": {},
   "source": [
    "# Build the VGG-10 model\n",
    "\n",
    "This model is built with Brevitas (and Pytorch for non-parameters layers), meaning this model has already been quantized before training. \n",
    "The structure of the model follows the VGG-10 model described in this paper by DeepSig: [Over-the-Air Deep Learning Based Radio Signal Classification](https://arxiv.org/pdf/1712.04578.pdf).\n",
    "\n",
    "The model should have: \n",
    "- Input quantizer layer to convert from int8 to a float tensor, which can be forwarded into QuantConv2d \n",
    "- 7 convolutional blocks, \n",
    "- 1 flatten layer,\n",
    "- 2 linear blocks \n",
    "- 1 final linear layer for classification\n",
    "\n",
    "Further explanation on quant tensor: https://github.com/Xilinx/brevitas/blob/master/notebooks/01_quant_tensor_quant_conv2d_overview.ipynb \n",
    "\n",
    "\n",
    "\n",
    "## Brevitas Quantization at a Highlevel \n",
    "\n",
    "Brevitas _heavily abstracts_ the idea of quantizing and therefore gives us a lot of customization options! By definition quantizing is performing _some_ operation on a value to reduce it's precision. More informally, given some value that takes A bits to represent, change it to a new value that uses less than A bits to represent. \n",
    "\n",
    "Therefore, Brevitas is built upon the idea of defining **Custom Quantizers**. The quantizers are modules that allow the user to:\n",
    "1. Select which parts {Weights, Bias, Input, Outputs} of a layer get quantized\n",
    "2. The method by which each part of each layer is quantized {Custom, or defualts such as power of 2 quantization, scaled uniform, etc. brevitas defines _alot_ of quantization types}\n",
    "\n",
    "Specifically, we can define 3 custom modules {WeightQuantType, BiasQuantType, ActQuantType}. The first two are used to quantize the Weights and Bias respectively, and the last one is used to quantize inputs and outputs of a layer. \n",
    "\n",
    "\n",
    "For example, below we use `Int8ActPerTensorFloatMinMaxInit` to define a ActQuantizer. This quantizer takes 3 parameters: bit_width, min_val, max_val. This will force corresponding tensors to have values between the min_val and max_val, and will be represented with bit_width bits.  \n",
    "\n",
    "Formally, we define our quantizer as `InputQuantizer`, which inherits from `Int8ActPerTensorFloatMinMaxInit`. Meaning we can now use our quantizer **to enforce our quantizing rules** on a new layer! While verbose, you may now see the power we have to define very custom quantizers. \n",
    "\n",
    "Here is a tutorial to make your own quantizer: https://xilinx.github.io/brevitas/tutorials/anatomy_quantizer.html. \n",
    "\n",
    "TODO: For Ryan and or other: Difference between a quantizer and the quantizer activation. Once I/someone else knows better we can add that here. \n",
    "\n",
    "\n",
    "#### Specifics \n",
    "\n",
    "**QuantRelu:** Implements a standard ReLu layer _followed_ by quantization \n",
    "\n",
    "**QuantConv1d:** This is an instance of both a standard Conv2d layer and QuantWeightBiasInputOutputLayer (QuantWBIOL) layer. A WBIOL layer is a layer that **allows for** quantizing of Weights, Bias, Inputs, and Outputs. Allow for, meaning, it does not by default enable quantization for all those layers, but if a user so wishes, they can choose to enable quantization for all those layers \n",
    "\n",
    "**QuantLinear:** Another WBIOL layer, this time combined with a Linear Layer. \n",
    "\n",
    "\n",
    "The default type of quantization for these layers is: Int8WeightPerTensorFloat, meaning the Wieghts are quantized to 8bit floats. However you can see in our implementation we specify a `weight_bit_width` and a `bias`. So we explicity set bias to false (which is redundant but good practice) and set weight_bit_width to a value that we can now customize! \n"
   ]
  },
  {
   "cell_type": "code",
   "execution_count": 5,
   "metadata": {},
   "outputs": [
    {
     "name": "stderr",
     "output_type": "stream",
     "text": [
      "/usr/local/lib/python3.10/dist-packages/torch/_tensor.py:1255: UserWarning: Named tensors and all their associated APIs are an experimental feature and subject to change. Please do not use them for anything important until they are released as stable. (Triggered internally at ../c10/core/TensorImpl.h:1758.)\n",
      "  return super(Tensor, self).rename(names)\n"
     ]
    },
    {
     "name": "stdout",
     "output_type": "stream",
     "text": [
      "===================================================================================================================\n",
      "Layer (type:depth-idx)                                            Output Shape              Param #\n",
      "===================================================================================================================\n",
      "QuantVGG                                                          [1, 27]                   --\n",
      "├─QuantHardTanh: 1-1                                              [1, 2, 1024]              --\n",
      "│    └─ActQuantProxyFromInjector: 2-1                             [1, 2, 1024]              --\n",
      "│    └─ActQuantProxyFromInjector: 2-2                             [1, 2, 1024]              --\n",
      "│    │    └─FusedActivationQuantProxy: 3-1                        [1, 2, 1024]              --\n",
      "├─QuantReLU: 1-2                                                  --                        (recursive)\n",
      "│    └─ActQuantProxyFromInjector: 2-3                             --                        (recursive)\n",
      "│    │    └─FusedActivationQuantProxy: 3-2                        --                        (recursive)\n",
      "├─QuantHardTanh: 1-3                                              --                        --\n",
      "│    └─ActQuantProxyFromInjector: 2-4                             --                        --\n",
      "│    │    └─FusedActivationQuantProxy: 3-3                        --                        --\n",
      "├─QuantConv1d: 1-4                                                [1, 64, 1024]             --\n",
      "│    └─ActQuantProxyFromInjector: 2-5                             [1, 2, 1024]              --\n",
      "│    └─WeightQuantProxyFromInjector: 2-6                          [64, 2, 3]                --\n",
      "│    │    └─RescalingIntQuant: 3-4                                [64, 2, 3]                384\n",
      "│    └─ActQuantProxyFromInjector: 2-7                             [1, 64, 1024]             --\n",
      "├─BatchNorm1d: 1-5                                                [1, 64, 1024]             128\n",
      "├─QuantReLU: 1-6                                                  [1, 64, 1024]             --\n",
      "│    └─ActQuantProxyFromInjector: 2-8                             [1, 64, 1024]             --\n",
      "│    └─ActQuantProxyFromInjector: 2-9                             [1, 64, 1024]             --\n",
      "│    │    └─FusedActivationQuantProxy: 3-5                        [1, 64, 1024]             1\n",
      "├─MaxPool1d: 1-7                                                  [1, 64, 512]              --\n",
      "├─QuantConv1d: 1-8                                                [1, 64, 512]              --\n",
      "│    └─ActQuantProxyFromInjector: 2-10                            [1, 64, 512]              --\n",
      "│    └─WeightQuantProxyFromInjector: 2-11                         [64, 64, 3]               --\n",
      "│    │    └─RescalingIntQuant: 3-6                                [64, 64, 3]               12,288\n",
      "│    └─ActQuantProxyFromInjector: 2-12                            [1, 64, 512]              --\n",
      "├─BatchNorm1d: 1-9                                                [1, 64, 512]              (recursive)\n",
      "├─QuantReLU: 1-10                                                 [1, 64, 512]              (recursive)\n",
      "│    └─ActQuantProxyFromInjector: 2-13                            [1, 64, 512]              --\n",
      "│    └─ActQuantProxyFromInjector: 2-14                            [1, 64, 512]              (recursive)\n",
      "│    │    └─FusedActivationQuantProxy: 3-7                        [1, 64, 512]              (recursive)\n",
      "├─MaxPool1d: 1-11                                                 [1, 64, 256]              --\n",
      "├─QuantConv1d: 1-12                                               [1, 64, 256]              (recursive)\n",
      "│    └─ActQuantProxyFromInjector: 2-15                            [1, 64, 256]              --\n",
      "│    └─WeightQuantProxyFromInjector: 2-16                         [64, 64, 3]               (recursive)\n",
      "│    │    └─RescalingIntQuant: 3-8                                [64, 64, 3]               (recursive)\n",
      "│    └─ActQuantProxyFromInjector: 2-17                            [1, 64, 256]              --\n",
      "├─BatchNorm1d: 1-13                                               [1, 64, 256]              (recursive)\n",
      "├─QuantReLU: 1-14                                                 [1, 64, 256]              (recursive)\n",
      "│    └─ActQuantProxyFromInjector: 2-18                            [1, 64, 256]              --\n",
      "│    └─ActQuantProxyFromInjector: 2-19                            [1, 64, 256]              (recursive)\n",
      "│    │    └─FusedActivationQuantProxy: 3-9                        [1, 64, 256]              (recursive)\n",
      "├─MaxPool1d: 1-15                                                 [1, 64, 128]              --\n",
      "├─QuantConv1d: 1-16                                               [1, 64, 128]              (recursive)\n",
      "│    └─ActQuantProxyFromInjector: 2-20                            [1, 64, 128]              --\n",
      "│    └─WeightQuantProxyFromInjector: 2-21                         [64, 64, 3]               (recursive)\n",
      "│    │    └─RescalingIntQuant: 3-10                               [64, 64, 3]               (recursive)\n",
      "│    └─ActQuantProxyFromInjector: 2-22                            [1, 64, 128]              --\n",
      "├─BatchNorm1d: 1-17                                               [1, 64, 128]              (recursive)\n",
      "├─QuantReLU: 1-18                                                 [1, 64, 128]              (recursive)\n",
      "│    └─ActQuantProxyFromInjector: 2-23                            [1, 64, 128]              --\n",
      "│    └─ActQuantProxyFromInjector: 2-24                            [1, 64, 128]              (recursive)\n",
      "│    │    └─FusedActivationQuantProxy: 3-11                       [1, 64, 128]              (recursive)\n",
      "├─MaxPool1d: 1-19                                                 [1, 64, 64]               --\n",
      "├─QuantConv1d: 1-20                                               [1, 64, 64]               (recursive)\n",
      "│    └─ActQuantProxyFromInjector: 2-25                            [1, 64, 64]               --\n",
      "│    └─WeightQuantProxyFromInjector: 2-26                         [64, 64, 3]               (recursive)\n",
      "│    │    └─RescalingIntQuant: 3-12                               [64, 64, 3]               (recursive)\n",
      "│    └─ActQuantProxyFromInjector: 2-27                            [1, 64, 64]               --\n",
      "├─BatchNorm1d: 1-21                                               [1, 64, 64]               (recursive)\n",
      "├─QuantReLU: 1-22                                                 [1, 64, 64]               (recursive)\n",
      "│    └─ActQuantProxyFromInjector: 2-28                            [1, 64, 64]               --\n",
      "│    └─ActQuantProxyFromInjector: 2-29                            [1, 64, 64]               (recursive)\n",
      "│    │    └─FusedActivationQuantProxy: 3-13                       [1, 64, 64]               (recursive)\n",
      "├─MaxPool1d: 1-23                                                 [1, 64, 32]               --\n",
      "├─QuantConv1d: 1-24                                               [1, 64, 32]               (recursive)\n",
      "│    └─ActQuantProxyFromInjector: 2-30                            [1, 64, 32]               --\n",
      "│    └─WeightQuantProxyFromInjector: 2-31                         [64, 64, 3]               (recursive)\n",
      "│    │    └─RescalingIntQuant: 3-14                               [64, 64, 3]               (recursive)\n",
      "│    └─ActQuantProxyFromInjector: 2-32                            [1, 64, 32]               --\n",
      "├─BatchNorm1d: 1-25                                               [1, 64, 32]               (recursive)\n",
      "├─QuantReLU: 1-26                                                 [1, 64, 32]               (recursive)\n",
      "│    └─ActQuantProxyFromInjector: 2-33                            [1, 64, 32]               --\n",
      "│    └─ActQuantProxyFromInjector: 2-34                            [1, 64, 32]               (recursive)\n",
      "│    │    └─FusedActivationQuantProxy: 3-15                       [1, 64, 32]               (recursive)\n",
      "├─MaxPool1d: 1-27                                                 [1, 64, 16]               --\n",
      "├─QuantConv1d: 1-28                                               [1, 64, 16]               (recursive)\n",
      "│    └─ActQuantProxyFromInjector: 2-35                            [1, 64, 16]               --\n",
      "│    └─WeightQuantProxyFromInjector: 2-36                         [64, 64, 3]               (recursive)\n",
      "│    │    └─RescalingIntQuant: 3-16                               [64, 64, 3]               (recursive)\n",
      "│    └─ActQuantProxyFromInjector: 2-37                            [1, 64, 16]               --\n",
      "├─BatchNorm1d: 1-29                                               [1, 64, 16]               (recursive)\n",
      "├─QuantReLU: 1-30                                                 [1, 64, 16]               (recursive)\n",
      "│    └─ActQuantProxyFromInjector: 2-38                            [1, 64, 16]               --\n",
      "│    └─ActQuantProxyFromInjector: 2-39                            [1, 64, 16]               (recursive)\n",
      "│    │    └─FusedActivationQuantProxy: 3-17                       [1, 64, 16]               (recursive)\n",
      "├─MaxPool1d: 1-31                                                 [1, 64, 8]                --\n",
      "├─Flatten: 1-32                                                   [1, 512]                  --\n",
      "├─QuantLinear: 1-33                                               [1, 128]                  --\n",
      "│    └─ActQuantProxyFromInjector: 2-40                            [1, 512]                  --\n",
      "│    └─WeightQuantProxyFromInjector: 2-41                         [128, 512]                --\n",
      "│    │    └─RescalingIntQuant: 3-18                               [128, 512]                65,536\n",
      "│    └─ActQuantProxyFromInjector: 2-42                            [1, 128]                  --\n",
      "├─BatchNorm1d: 1-34                                               [1, 128]                  256\n",
      "├─QuantReLU: 1-35                                                 [1, 128]                  (recursive)\n",
      "│    └─ActQuantProxyFromInjector: 2-43                            [1, 128]                  --\n",
      "│    └─ActQuantProxyFromInjector: 2-44                            [1, 128]                  (recursive)\n",
      "│    │    └─FusedActivationQuantProxy: 3-19                       [1, 128]                  (recursive)\n",
      "├─QuantLinear: 1-36                                               [1, 128]                  --\n",
      "│    └─ActQuantProxyFromInjector: 2-45                            [1, 128]                  --\n",
      "│    └─WeightQuantProxyFromInjector: 2-46                         [128, 128]                --\n",
      "│    │    └─RescalingIntQuant: 3-20                               [128, 128]                16,384\n",
      "│    └─ActQuantProxyFromInjector: 2-47                            [1, 128]                  --\n",
      "├─BatchNorm1d: 1-37                                               [1, 128]                  (recursive)\n",
      "├─QuantReLU: 1-38                                                 [1, 128]                  (recursive)\n",
      "│    └─ActQuantProxyFromInjector: 2-48                            [1, 128]                  --\n",
      "│    └─ActQuantProxyFromInjector: 2-49                            [1, 128]                  (recursive)\n",
      "│    │    └─FusedActivationQuantProxy: 3-21                       [1, 128]                  (recursive)\n",
      "├─QuantLinear: 1-39                                               [1, 27]                   --\n",
      "│    └─ActQuantProxyFromInjector: 2-50                            [1, 128]                  --\n",
      "│    └─WeightQuantProxyFromInjector: 2-51                         [27, 128]                 --\n",
      "│    │    └─RescalingIntQuant: 3-22                               [27, 128]                 3,456\n",
      "│    └─ActQuantProxyFromInjector: 2-52                            [1, 27]                   --\n",
      "===================================================================================================================\n",
      "Total params: 98,433\n",
      "Trainable params: 98,433\n",
      "Non-trainable params: 0\n",
      "Total mult-adds (M): 0.00\n",
      "===================================================================================================================\n",
      "Input size (MB): 0.01\n",
      "Forward/backward pass size (MB): 1.04\n",
      "Params size (MB): 0.00\n",
      "Estimated Total Size (MB): 1.05\n",
      "===================================================================================================================\n",
      "===================================================================================================================\n",
      "Layer (type:depth-idx)                                            Output Shape              Param #\n",
      "===================================================================================================================\n",
      "Sequential                                                        [1, 27]                   --\n",
      "├─QuantHardTanh: 1-1                                              [1, 2, 1024]              --\n",
      "│    └─ActQuantProxyFromInjector: 2-1                             [1, 2, 1024]              --\n",
      "│    └─ActQuantProxyFromInjector: 2-2                             [1, 2, 1024]              --\n",
      "│    │    └─FusedActivationQuantProxy: 3-1                        [1, 2, 1024]              --\n",
      "├─QuantReLU: 1-50                                                 --                        (recursive)\n",
      "│    └─ActQuantProxyFromInjector: 2-59                            --                        (recursive)\n",
      "│    │    └─FusedActivationQuantProxy: 3-34                       --                        (recursive)\n",
      "├─QuantHardTanh: 1-3                                              --                        --\n",
      "│    └─ActQuantProxyFromInjector: 2-4                             --                        --\n",
      "│    │    └─FusedActivationQuantProxy: 3-3                        --                        --\n",
      "├─QuantConv1d: 1-4                                                [1, 64, 1024]             --\n",
      "│    └─ActQuantProxyFromInjector: 2-5                             [1, 2, 1024]              --\n",
      "│    └─WeightQuantProxyFromInjector: 2-6                          [64, 2, 3]                --\n",
      "│    │    └─RescalingIntQuant: 3-4                                [64, 2, 3]                384\n",
      "│    └─ActQuantProxyFromInjector: 2-7                             [1, 64, 1024]             --\n",
      "├─BatchNorm1d: 1-5                                                [1, 64, 1024]             128\n",
      "├─QuantReLU: 1-6                                                  [1, 64, 1024]             --\n",
      "│    └─ActQuantProxyFromInjector: 2-8                             [1, 64, 1024]             --\n",
      "│    └─ActQuantProxyFromInjector: 2-9                             [1, 64, 1024]             --\n",
      "│    │    └─FusedActivationQuantProxy: 3-5                        [1, 64, 1024]             1\n",
      "├─QuantReLU: 1-50                                                 --                        (recursive)\n",
      "│    └─ActQuantProxyFromInjector: 2-59                            --                        (recursive)\n",
      "│    │    └─FusedActivationQuantProxy: 3-34                       --                        (recursive)\n",
      "├─QuantReLU: 1-8                                                  --                        (recursive)\n",
      "│    └─ActQuantProxyFromInjector: 2-11                            --                        (recursive)\n",
      "│    │    └─FusedActivationQuantProxy: 3-7                        --                        (recursive)\n",
      "├─MaxPool1d: 1-9                                                  [1, 64, 512]              --\n",
      "├─QuantConv1d: 1-10                                               [1, 64, 512]              --\n",
      "│    └─ActQuantProxyFromInjector: 2-12                            [1, 64, 512]              --\n",
      "│    └─WeightQuantProxyFromInjector: 2-13                         [64, 64, 3]               --\n",
      "│    │    └─RescalingIntQuant: 3-8                                [64, 64, 3]               12,288\n",
      "│    └─ActQuantProxyFromInjector: 2-14                            [1, 64, 512]              --\n",
      "├─BatchNorm1d: 1-11                                               [1, 64, 512]              128\n",
      "├─QuantReLU: 1-12                                                 [1, 64, 512]              --\n",
      "│    └─ActQuantProxyFromInjector: 2-15                            [1, 64, 512]              --\n",
      "│    └─ActQuantProxyFromInjector: 2-16                            [1, 64, 512]              --\n",
      "│    │    └─FusedActivationQuantProxy: 3-9                        [1, 64, 512]              1\n",
      "├─QuantReLU: 1-50                                                 --                        (recursive)\n",
      "│    └─ActQuantProxyFromInjector: 2-59                            --                        (recursive)\n",
      "│    │    └─FusedActivationQuantProxy: 3-34                       --                        (recursive)\n",
      "├─QuantReLU: 1-14                                                 --                        (recursive)\n",
      "│    └─ActQuantProxyFromInjector: 2-18                            --                        (recursive)\n",
      "│    │    └─FusedActivationQuantProxy: 3-11                       --                        (recursive)\n",
      "├─MaxPool1d: 1-15                                                 [1, 64, 256]              --\n",
      "├─QuantConv1d: 1-16                                               [1, 64, 256]              --\n",
      "│    └─ActQuantProxyFromInjector: 2-19                            [1, 64, 256]              --\n",
      "│    └─WeightQuantProxyFromInjector: 2-20                         [64, 64, 3]               --\n",
      "│    │    └─RescalingIntQuant: 3-12                               [64, 64, 3]               12,288\n",
      "│    └─ActQuantProxyFromInjector: 2-21                            [1, 64, 256]              --\n",
      "├─BatchNorm1d: 1-17                                               [1, 64, 256]              128\n",
      "├─QuantReLU: 1-18                                                 [1, 64, 256]              --\n",
      "│    └─ActQuantProxyFromInjector: 2-22                            [1, 64, 256]              --\n",
      "│    └─ActQuantProxyFromInjector: 2-23                            [1, 64, 256]              --\n",
      "│    │    └─FusedActivationQuantProxy: 3-13                       [1, 64, 256]              1\n",
      "├─QuantReLU: 1-50                                                 --                        (recursive)\n",
      "│    └─ActQuantProxyFromInjector: 2-59                            --                        (recursive)\n",
      "│    │    └─FusedActivationQuantProxy: 3-34                       --                        (recursive)\n",
      "├─QuantReLU: 1-20                                                 --                        (recursive)\n",
      "│    └─ActQuantProxyFromInjector: 2-25                            --                        (recursive)\n",
      "│    │    └─FusedActivationQuantProxy: 3-15                       --                        (recursive)\n",
      "├─MaxPool1d: 1-21                                                 [1, 64, 128]              --\n",
      "├─QuantConv1d: 1-22                                               [1, 64, 128]              --\n",
      "│    └─ActQuantProxyFromInjector: 2-26                            [1, 64, 128]              --\n",
      "│    └─WeightQuantProxyFromInjector: 2-27                         [64, 64, 3]               --\n",
      "│    │    └─RescalingIntQuant: 3-16                               [64, 64, 3]               12,288\n",
      "│    └─ActQuantProxyFromInjector: 2-28                            [1, 64, 128]              --\n",
      "├─BatchNorm1d: 1-23                                               [1, 64, 128]              128\n",
      "├─QuantReLU: 1-24                                                 [1, 64, 128]              --\n",
      "│    └─ActQuantProxyFromInjector: 2-29                            [1, 64, 128]              --\n",
      "│    └─ActQuantProxyFromInjector: 2-30                            [1, 64, 128]              --\n",
      "│    │    └─FusedActivationQuantProxy: 3-17                       [1, 64, 128]              1\n",
      "├─QuantReLU: 1-50                                                 --                        (recursive)\n",
      "│    └─ActQuantProxyFromInjector: 2-59                            --                        (recursive)\n",
      "│    │    └─FusedActivationQuantProxy: 3-34                       --                        (recursive)\n",
      "├─QuantReLU: 1-26                                                 --                        (recursive)\n",
      "│    └─ActQuantProxyFromInjector: 2-32                            --                        (recursive)\n",
      "│    │    └─FusedActivationQuantProxy: 3-19                       --                        (recursive)\n",
      "├─MaxPool1d: 1-27                                                 [1, 64, 64]               --\n",
      "├─QuantConv1d: 1-28                                               [1, 64, 64]               --\n",
      "│    └─ActQuantProxyFromInjector: 2-33                            [1, 64, 64]               --\n",
      "│    └─WeightQuantProxyFromInjector: 2-34                         [64, 64, 3]               --\n",
      "│    │    └─RescalingIntQuant: 3-20                               [64, 64, 3]               12,288\n",
      "│    └─ActQuantProxyFromInjector: 2-35                            [1, 64, 64]               --\n",
      "├─BatchNorm1d: 1-29                                               [1, 64, 64]               128\n",
      "├─QuantReLU: 1-30                                                 [1, 64, 64]               --\n",
      "│    └─ActQuantProxyFromInjector: 2-36                            [1, 64, 64]               --\n",
      "│    └─ActQuantProxyFromInjector: 2-37                            [1, 64, 64]               --\n",
      "│    │    └─FusedActivationQuantProxy: 3-21                       [1, 64, 64]               1\n",
      "├─QuantReLU: 1-50                                                 --                        (recursive)\n",
      "│    └─ActQuantProxyFromInjector: 2-59                            --                        (recursive)\n",
      "│    │    └─FusedActivationQuantProxy: 3-34                       --                        (recursive)\n",
      "├─QuantReLU: 1-32                                                 --                        (recursive)\n",
      "│    └─ActQuantProxyFromInjector: 2-39                            --                        (recursive)\n",
      "│    │    └─FusedActivationQuantProxy: 3-23                       --                        (recursive)\n",
      "├─MaxPool1d: 1-33                                                 [1, 64, 32]               --\n",
      "├─QuantConv1d: 1-34                                               [1, 64, 32]               --\n",
      "│    └─ActQuantProxyFromInjector: 2-40                            [1, 64, 32]               --\n",
      "│    └─WeightQuantProxyFromInjector: 2-41                         [64, 64, 3]               --\n",
      "│    │    └─RescalingIntQuant: 3-24                               [64, 64, 3]               12,288\n",
      "│    └─ActQuantProxyFromInjector: 2-42                            [1, 64, 32]               --\n",
      "├─BatchNorm1d: 1-35                                               [1, 64, 32]               128\n",
      "├─QuantReLU: 1-36                                                 [1, 64, 32]               --\n",
      "│    └─ActQuantProxyFromInjector: 2-43                            [1, 64, 32]               --\n",
      "│    └─ActQuantProxyFromInjector: 2-44                            [1, 64, 32]               --\n",
      "│    │    └─FusedActivationQuantProxy: 3-25                       [1, 64, 32]               1\n",
      "├─QuantReLU: 1-50                                                 --                        (recursive)\n",
      "│    └─ActQuantProxyFromInjector: 2-59                            --                        (recursive)\n",
      "│    │    └─FusedActivationQuantProxy: 3-34                       --                        (recursive)\n",
      "├─QuantReLU: 1-38                                                 --                        (recursive)\n",
      "│    └─ActQuantProxyFromInjector: 2-46                            --                        (recursive)\n",
      "│    │    └─FusedActivationQuantProxy: 3-27                       --                        (recursive)\n",
      "├─MaxPool1d: 1-39                                                 [1, 64, 16]               --\n",
      "├─QuantConv1d: 1-40                                               [1, 64, 16]               --\n",
      "│    └─ActQuantProxyFromInjector: 2-47                            [1, 64, 16]               --\n",
      "│    └─WeightQuantProxyFromInjector: 2-48                         [64, 64, 3]               --\n",
      "│    │    └─RescalingIntQuant: 3-28                               [64, 64, 3]               12,288\n",
      "│    └─ActQuantProxyFromInjector: 2-49                            [1, 64, 16]               --\n",
      "├─BatchNorm1d: 1-41                                               [1, 64, 16]               128\n",
      "├─QuantReLU: 1-42                                                 [1, 64, 16]               --\n",
      "│    └─ActQuantProxyFromInjector: 2-50                            [1, 64, 16]               --\n",
      "│    └─ActQuantProxyFromInjector: 2-51                            [1, 64, 16]               --\n",
      "│    │    └─FusedActivationQuantProxy: 3-29                       [1, 64, 16]               1\n",
      "├─QuantReLU: 1-50                                                 --                        (recursive)\n",
      "│    └─ActQuantProxyFromInjector: 2-59                            --                        (recursive)\n",
      "│    │    └─FusedActivationQuantProxy: 3-34                       --                        (recursive)\n",
      "├─QuantReLU: 1-44                                                 --                        (recursive)\n",
      "│    └─ActQuantProxyFromInjector: 2-53                            --                        (recursive)\n",
      "│    │    └─FusedActivationQuantProxy: 3-31                       --                        (recursive)\n",
      "├─MaxPool1d: 1-45                                                 [1, 64, 8]                --\n",
      "├─Flatten: 1-46                                                   [1, 512]                  --\n",
      "├─QuantLinear: 1-47                                               [1, 128]                  --\n",
      "│    └─ActQuantProxyFromInjector: 2-54                            [1, 512]                  --\n",
      "│    └─WeightQuantProxyFromInjector: 2-55                         [128, 512]                --\n",
      "│    │    └─RescalingIntQuant: 3-32                               [128, 512]                65,536\n",
      "│    └─ActQuantProxyFromInjector: 2-56                            [1, 128]                  --\n",
      "├─BatchNorm1d: 1-48                                               [1, 128]                  256\n",
      "├─QuantReLU: 1-49                                                 [1, 128]                  --\n",
      "│    └─ActQuantProxyFromInjector: 2-57                            [1, 128]                  --\n",
      "│    └─ActQuantProxyFromInjector: 2-58                            [1, 128]                  --\n",
      "│    │    └─FusedActivationQuantProxy: 3-33                       [1, 128]                  1\n",
      "├─QuantReLU: 1-50                                                 --                        (recursive)\n",
      "│    └─ActQuantProxyFromInjector: 2-59                            --                        (recursive)\n",
      "│    │    └─FusedActivationQuantProxy: 3-34                       --                        (recursive)\n",
      "├─QuantReLU: 1-51                                                 --                        (recursive)\n",
      "│    └─ActQuantProxyFromInjector: 2-60                            --                        (recursive)\n",
      "│    │    └─FusedActivationQuantProxy: 3-35                       --                        (recursive)\n",
      "├─QuantLinear: 1-52                                               [1, 128]                  --\n",
      "│    └─ActQuantProxyFromInjector: 2-61                            [1, 128]                  --\n",
      "│    └─WeightQuantProxyFromInjector: 2-62                         [128, 128]                --\n",
      "│    │    └─RescalingIntQuant: 3-36                               [128, 128]                16,384\n",
      "│    └─ActQuantProxyFromInjector: 2-63                            [1, 128]                  --\n",
      "├─BatchNorm1d: 1-53                                               [1, 128]                  256\n",
      "├─QuantReLU: 1-54                                                 [1, 128]                  --\n",
      "│    └─ActQuantProxyFromInjector: 2-64                            [1, 128]                  --\n",
      "│    └─ActQuantProxyFromInjector: 2-65                            [1, 128]                  --\n",
      "│    │    └─FusedActivationQuantProxy: 3-37                       [1, 128]                  1\n",
      "├─QuantLinear: 1-55                                               [1, 27]                   27\n",
      "│    └─ActQuantProxyFromInjector: 2-66                            [1, 128]                  --\n",
      "│    └─WeightQuantProxyFromInjector: 2-67                         [27, 128]                 --\n",
      "│    │    └─RescalingIntQuant: 3-38                               [27, 128]                 3,456\n",
      "│    └─BiasQuantProxyFromInjector: 2-68                           [27]                      --\n",
      "│    │    └─PrescaledRestrictIntQuant: 3-39                       [27]                      --\n",
      "│    └─ActQuantProxyFromInjector: 2-69                            [1, 27]                   --\n",
      "===================================================================================================================\n",
      "Total params: 160,932\n",
      "Trainable params: 160,932\n",
      "Non-trainable params: 0\n",
      "Total mult-adds (M): 0.00\n",
      "===================================================================================================================\n",
      "Input size (MB): 0.01\n",
      "Forward/backward pass size (MB): 1.04\n",
      "Params size (MB): 0.01\n",
      "Estimated Total Size (MB): 1.06\n",
      "===================================================================================================================\n"
     ]
    }
   ],
   "source": [
    "from torch import nn\n",
    "\n",
    "# A qnn is a Brevitas version of pytorch's nn. nn stands for neural network.\n",
    "import brevitas.nn as qnn\n",
    "from brevitas.quant import Int8Bias\n",
    "from brevitas.inject.enum import ScalingImplType\n",
    "from brevitas.inject.defaults import Int8ActPerTensorFloatMinMaxInit\n",
    "\n",
    "# Adjustable hyperparameters\n",
    "input_bits = 8\n",
    "a_bits = 8  # a_bits is the bit width for ReLu\n",
    "w_bits = 8 # w_bits is the bit width for all the weights\n",
    "filters_conv = 64\n",
    "filters_dense = 128\n",
    "\n",
    "# Setting seeds for reproducibility\n",
    "torch.manual_seed(0)\n",
    "np.random.seed(0)\n",
    "\n",
    "class InputQuantizer(Int8ActPerTensorFloatMinMaxInit):\n",
    "    #Using 8 bits\n",
    "    bit_width = input_bits\n",
    "    #Converting from int8 [-127,128] to finn-float32 [-127.0,128.0]\n",
    "    #Since our dataset is already quantized before going through the model,\n",
    "    #   this would only convert the datatype, the values would be the same\n",
    "    #Refer to this notebook below, which is used for the 2018 dataset,\n",
    "    #to see the difference between this version and the 2018 version\n",
    "    #(https://github.com/Xilinx/brevitas-radioml-challenge-21/blob/main/sandbox/notebooks/training_and_evaluation.ipynb)\n",
    "    min_val = -127.0\n",
    "    max_val = 128.0\n",
    "\n",
    "    # \n",
    "    scaling_impl_type = ScalingImplType.CONST # Fix the quantization range to [min_val, max_val]\n",
    "\n",
    "class QuantVGG(nn.Module):\n",
    "    def __init__(self, inputs_bits, a_bits, w_bits, filters_conv, filters_dense):\n",
    "        super(QuantVGG, self).__init__()\n",
    "        self.hard_tanh = qnn.QuantHardTanh(act_quant=InputQuantizer)#, return_quant_tensor=True)\n",
    "        self.conv_initial = qnn.QuantConv1d(2, filters_conv, 3, padding=1, weight_bit_width=w_bits, bias=False)\n",
    "        self.conv = qnn.QuantConv1d(filters_conv, filters_conv, 3, padding=1, weight_bit_width=w_bits, bias=False)\n",
    "\n",
    "        self.pool = nn.MaxPool1d(2) \n",
    "        self.relu = qnn.QuantReLU(bit_width=a_bits)\n",
    "        self.bn = nn.BatchNorm1d(filters_conv)\n",
    "        self.bn_dense = nn.BatchNorm1d(filters_dense)\n",
    "\n",
    "        self.fc1 = qnn.QuantLinear(filters_conv*8, filters_dense, weight_bit_width=w_bits, bias=False)\n",
    "        self.fc2 = qnn.QuantLinear(filters_dense, filters_dense, weight_bit_width=w_bits, bias=False)\n",
    "        self.fc3 = qnn.QuantLinear(filters_dense, 27, weight_bit_width=w_bits, bias=False)\n",
    "\n",
    "        self.flat = nn.Flatten()\n",
    "    def forward(self,x):\n",
    "        out = self.hard_tanh(x)\n",
    "\n",
    "        # Block 1 \n",
    "        out = self.conv_initial(out)\n",
    "        out = self.bn(out)\n",
    "        out = self.relu(out)\n",
    "        out = self.pool(out)\n",
    "\n",
    "        # Block 2 \n",
    "        out = self.conv(out)\n",
    "        out = self.bn(out)\n",
    "        out = self.relu(out)\n",
    "        out = self.pool(out)\n",
    "\n",
    "        # Block 3\n",
    "        out = self.conv(out)\n",
    "        out = self.bn(out)\n",
    "        out = self.relu(out)\n",
    "        out = self.pool(out)\n",
    "\n",
    "        # Block 4\n",
    "        out = self.conv(out)\n",
    "        out = self.bn(out)\n",
    "        out = self.relu(out)\n",
    "        out = self.pool(out)\n",
    "\n",
    "        # Block 5\n",
    "        out = self.conv(out)\n",
    "        out = self.bn(out)\n",
    "        out = self.relu(out)\n",
    "        out = self.pool(out)\n",
    "\n",
    "        # Block 6\n",
    "        out = self.conv(out)\n",
    "        out = self.bn(out)\n",
    "        out = self.relu(out)\n",
    "        out = self.pool(out)\n",
    "\n",
    "        # Block 7\n",
    "        out = self.conv(out)\n",
    "        out = self.bn(out)\n",
    "        out = self.relu(out)\n",
    "        out = self.pool(out)\n",
    "\n",
    "        \n",
    "        # Flat\n",
    "        out = self.flat(out)\n",
    "        \n",
    "        out = self.fc1(out)\n",
    "        out = self.bn_dense(out)\n",
    "        out = self.relu(out)\n",
    "\n",
    "        out = self.fc2(out)\n",
    "        out = self.bn_dense(out)\n",
    "        out = self.relu(out)\n",
    "\n",
    "        out = self.fc3(out)\n",
    "        return out\n",
    "        \n",
    "    #def _run_conv_block(self, out):\n",
    "    #    out = self.conv(out)\n",
    "    #    out = self.bn(out)\n",
    "    #    out = self.relu(out)\n",
    "    #    out = self.pool(out)\n",
    "    \n",
    "        \n",
    "model=QuantVGG(input_bits, a_bits, w_bits, filters_conv, filters_dense)\n",
    "\n",
    "import torchinfo\n",
    "print(torchinfo.summary(model,input_size=(1,2,1024)))\n",
    "\n",
    "model_class = nn.Sequential(\n",
    "    # Input quantization layer\n",
    "    qnn.QuantHardTanh(act_quant=InputQuantizer),\n",
    "\n",
    "    qnn.QuantConv1d(2, filters_conv, 3, padding=1, weight_bit_width=w_bits, bias=False),\n",
    "    nn.BatchNorm1d(filters_conv),\n",
    "    qnn.QuantReLU(bit_width=a_bits),\n",
    "    nn.MaxPool1d(2),\n",
    "\n",
    "    qnn.QuantConv1d(filters_conv, filters_conv, 3, padding=1, weight_bit_width=w_bits, bias=False),\n",
    "    nn.BatchNorm1d(filters_conv),\n",
    "    qnn.QuantReLU(bit_width=a_bits),\n",
    "    nn.MaxPool1d(2),\n",
    "\n",
    "    qnn.QuantConv1d(filters_conv, filters_conv, 3, padding=1, weight_bit_width=w_bits, bias=False),\n",
    "    nn.BatchNorm1d(filters_conv),\n",
    "    qnn.QuantReLU(bit_width=a_bits),\n",
    "    nn.MaxPool1d(2),\n",
    "\n",
    "    qnn.QuantConv1d(filters_conv, filters_conv, 3, padding=1, weight_bit_width=w_bits,bias=False),\n",
    "    nn.BatchNorm1d(filters_conv),\n",
    "    qnn.QuantReLU(bit_width=a_bits),\n",
    "    nn.MaxPool1d(2),\n",
    "\n",
    "    qnn.QuantConv1d(filters_conv, filters_conv, 3, padding=1, weight_bit_width=w_bits//2, bias=False),\n",
    "    nn.BatchNorm1d(filters_conv),\n",
    "    qnn.QuantReLU(bit_width=a_bits),\n",
    "    nn.MaxPool1d(2),\n",
    "\n",
    "    qnn.QuantConv1d(filters_conv, filters_conv, 3, padding=1, weight_bit_width=w_bits//2, bias=False),\n",
    "    nn.BatchNorm1d(filters_conv),\n",
    "    qnn.QuantReLU(bit_width=a_bits),\n",
    "    nn.MaxPool1d(2),\n",
    "\n",
    "    qnn.QuantConv1d(filters_conv, filters_conv, 3, padding=1, weight_bit_width=w_bits//2, bias=False),\n",
    "    nn.BatchNorm1d(filters_conv),\n",
    "    qnn.QuantReLU(bit_width=a_bits),\n",
    "    nn.MaxPool1d(2),\n",
    "    \n",
    "    nn.Flatten(),\n",
    "\n",
    "    qnn.QuantLinear(filters_conv*8, filters_dense, weight_bit_width=w_bits//2, bias=False),\n",
    "    nn.BatchNorm1d(filters_dense),\n",
    "    qnn.QuantReLU(bit_width=a_bits),\n",
    "\n",
    "    qnn.QuantLinear(filters_dense, filters_dense, weight_bit_width=w_bits//2, bias=False),\n",
    "    nn.BatchNorm1d(filters_dense),\n",
    "    qnn.QuantReLU(bit_width=a_bits, return_quant_tensor=True),\n",
    "\n",
    "    qnn.QuantLinear(filters_dense, 27, weight_bit_width=w_bits//2, bias=True, bias_quant=Int8Bias),\n",
    ")\n",
    "model=model_class\n",
    "\n",
    "import torchinfo\n",
    "print(torchinfo.summary(model_class,input_size=(1,2,1024)))"
   ]
  },
  {
   "cell_type": "markdown",
   "metadata": {},
   "source": [
    "# Train the model"
   ]
  },
  {
   "cell_type": "markdown",
   "metadata": {},
   "source": [
    "Defining train, test, displaying loss plot graph function"
   ]
  },
  {
   "cell_type": "code",
   "execution_count": 6,
   "metadata": {},
   "outputs": [],
   "source": [
    "from sklearn.metrics import accuracy_score\n",
    "\n",
    "def train(model, train_loader, optimizer, criterion):\n",
    "    # Save losses here and make sure model is in training mode.\n",
    "    losses = []\n",
    "    model.train()    \n",
    "\n",
    "    # Iterate over the data and train\n",
    "    for (inputs, target, snr) in tqdm(train_loader, desc=\"Training Batches\"):#, leave=False):   \n",
    "        #if gpu is not None:\n",
    "        inputs = inputs.to('cuda')\n",
    "        target = target.to('cuda')\n",
    "                \n",
    "        # forward pass\n",
    "        output = model(inputs)\n",
    "        loss = criterion(output, target)\n",
    "        \n",
    "        # backward pass + run optimizer to update weights\n",
    "        optimizer.zero_grad() \n",
    "        loss.backward()\n",
    "        optimizer.step()\n",
    "        \n",
    "        # keep track of loss value\n",
    "        losses.append(loss.cpu().detach().numpy())\n",
    "    return losses\n",
    "\n",
    "def test(model, test_loader):    \n",
    "    # ensure model is in eval mode\n",
    "    model.eval() \n",
    "    y_true = []\n",
    "    y_pred = []\n",
    "   \n",
    "    with torch.no_grad():\n",
    "        for (inputs, target, snr) in tqdm(test_loader, desc=\"Testing Batches\", leave=False):\n",
    "            #if gpu is not None:\n",
    "            inputs = inputs.to('cuda')\n",
    "            target = target.to('cuda')\n",
    "            output = model(inputs)\n",
    "            pred = output.argmax(dim=1, keepdim=True)\n",
    "            y_true.extend(target.tolist()) \n",
    "            y_pred.extend(pred.reshape(-1).tolist())\n",
    "        \n",
    "    return accuracy_score(y_true, y_pred)\n",
    "\n",
    "def display_loss_plot(losses, title=\"Training loss\", xlabel=\"Iterations\", ylabel=\"Loss\"):\n",
    "    x_axis = [i for i in range(len(losses))]\n",
    "    plt.plot(x_axis,losses)\n",
    "    plt.title(title)\n",
    "    plt.xlabel(xlabel)\n",
    "    plt.ylabel(ylabel)\n",
    "    plt.show()"
   ]
  },
  {
   "cell_type": "code",
   "execution_count": 7,
   "metadata": {},
   "outputs": [
    {
     "name": "stdout",
     "output_type": "stream",
     "text": [
      "Model parameters will be saved in 27ml_rf/model_brevitas.pth\n"
     ]
    }
   ],
   "source": [
    "chpt_path=Path('27ml_rf/model_brevitas.pth')\n",
    "onnx_file=Path('27ml_rf/model_brevitas.onnx')\n",
    "\n",
    "print(f'Model parameters will be saved in {chpt_path}')"
   ]
  },
  {
   "cell_type": "markdown",
   "metadata": {},
   "source": [
    "We are training the model for 20 epochs with a batch size of 1024 by default.\n",
    "These numbers can be adjusted.\n",
    "\n",
    "The first epoch usually takes longer to train. \n",
    "After that, it should train faster per epoch."
   ]
  },
  {
   "cell_type": "code",
   "execution_count": 9,
   "metadata": {},
   "outputs": [
    {
     "data": {
      "application/vnd.jupyter.widget-view+json": {
       "model_id": "d14c14b08d5741449c8c4044fb3562ea",
       "version_major": 2,
       "version_minor": 0
      },
      "text/plain": [
       "Epochs:   0%|          | 0/100 [00:00<?, ?it/s]"
      ]
     },
     "metadata": {},
     "output_type": "display_data"
    },
    {
     "data": {
      "application/vnd.jupyter.widget-view+json": {
       "model_id": "178249de89614817a8de6c0d17e49e87",
       "version_major": 2,
       "version_minor": 0
      },
      "text/plain": [
       "Training Batches:   0%|          | 0/2527 [00:00<?, ?it/s]"
      ]
     },
     "metadata": {},
     "output_type": "display_data"
    },
    {
     "data": {
      "application/vnd.jupyter.widget-view+json": {
       "model_id": "8a4f73242d2e4c4fa2ddcee11d4d69ed",
       "version_major": 2,
       "version_minor": 0
      },
      "text/plain": [
       "Testing Batches:   0%|          | 0/282 [00:00<?, ?it/s]"
      ]
     },
     "metadata": {},
     "output_type": "display_data"
    },
    {
     "name": "stdout",
     "output_type": "stream",
     "text": [
      "Epoch 0: Training loss = 1.309273, validation accuracy = 0.573834\n",
      "Model checkpoint is saved in 27ml_rf/model_brevitas.pth\n",
      "QOnnx Model checkpoint is saved in 27ml_rf/model_brevitas.onnx\n"
     ]
    },
    {
     "data": {
      "application/vnd.jupyter.widget-view+json": {
       "model_id": "cc5cf0b7d3114570885bb63950c85a29",
       "version_major": 2,
       "version_minor": 0
      },
      "text/plain": [
       "Training Batches:   0%|          | 0/2527 [00:00<?, ?it/s]"
      ]
     },
     "metadata": {},
     "output_type": "display_data"
    },
    {
     "data": {
      "application/vnd.jupyter.widget-view+json": {
       "model_id": "c25484b4dd1e4c4b94c4d2098e5f6e86",
       "version_major": 2,
       "version_minor": 0
      },
      "text/plain": [
       "Testing Batches:   0%|          | 0/282 [00:00<?, ?it/s]"
      ]
     },
     "metadata": {},
     "output_type": "display_data"
    },
    {
     "name": "stdout",
     "output_type": "stream",
     "text": [
      "Epoch 1: Training loss = 1.253790, validation accuracy = 0.581256\n",
      "Model checkpoint is saved in 27ml_rf/model_brevitas.pth\n",
      "QOnnx Model checkpoint is saved in 27ml_rf/model_brevitas.onnx\n"
     ]
    },
    {
     "data": {
      "application/vnd.jupyter.widget-view+json": {
       "model_id": "a80e082b57eb445393618ef0e0ffdd32",
       "version_major": 2,
       "version_minor": 0
      },
      "text/plain": [
       "Training Batches:   0%|          | 0/2527 [00:00<?, ?it/s]"
      ]
     },
     "metadata": {},
     "output_type": "display_data"
    },
    {
     "data": {
      "application/vnd.jupyter.widget-view+json": {
       "model_id": "72beea1f131c4a0793ff1496d0822917",
       "version_major": 2,
       "version_minor": 0
      },
      "text/plain": [
       "Testing Batches:   0%|          | 0/282 [00:00<?, ?it/s]"
      ]
     },
     "metadata": {},
     "output_type": "display_data"
    },
    {
     "name": "stdout",
     "output_type": "stream",
     "text": [
      "Epoch 2: Training loss = 1.225249, validation accuracy = 0.598155\n",
      "Model checkpoint is saved in 27ml_rf/model_brevitas.pth\n",
      "QOnnx Model checkpoint is saved in 27ml_rf/model_brevitas.onnx\n"
     ]
    },
    {
     "data": {
      "application/vnd.jupyter.widget-view+json": {
       "model_id": "1048342c589c4f90b2f4d18b8eb6567d",
       "version_major": 2,
       "version_minor": 0
      },
      "text/plain": [
       "Training Batches:   0%|          | 0/2527 [00:00<?, ?it/s]"
      ]
     },
     "metadata": {},
     "output_type": "display_data"
    },
    {
     "data": {
      "application/vnd.jupyter.widget-view+json": {
       "model_id": "3809c8505aa74a57bc655a84e2c156bc",
       "version_major": 2,
       "version_minor": 0
      },
      "text/plain": [
       "Testing Batches:   0%|          | 0/282 [00:00<?, ?it/s]"
      ]
     },
     "metadata": {},
     "output_type": "display_data"
    },
    {
     "name": "stdout",
     "output_type": "stream",
     "text": [
      "Epoch 3: Training loss = 1.203541, validation accuracy = 0.610305\n",
      "Model checkpoint is saved in 27ml_rf/model_brevitas.pth\n",
      "QOnnx Model checkpoint is saved in 27ml_rf/model_brevitas.onnx\n"
     ]
    },
    {
     "data": {
      "application/vnd.jupyter.widget-view+json": {
       "model_id": "2140c246fb174d839d3fc40107d1310d",
       "version_major": 2,
       "version_minor": 0
      },
      "text/plain": [
       "Training Batches:   0%|          | 0/2527 [00:00<?, ?it/s]"
      ]
     },
     "metadata": {},
     "output_type": "display_data"
    },
    {
     "data": {
      "application/vnd.jupyter.widget-view+json": {
       "model_id": "9276052d1ced4af0a8d5c2037bd2cd85",
       "version_major": 2,
       "version_minor": 0
      },
      "text/plain": [
       "Testing Batches:   0%|          | 0/282 [00:00<?, ?it/s]"
      ]
     },
     "metadata": {},
     "output_type": "display_data"
    },
    {
     "name": "stdout",
     "output_type": "stream",
     "text": [
      "Epoch 4: Training loss = 1.185585, validation accuracy = 0.618199\n",
      "Model checkpoint is saved in 27ml_rf/model_brevitas.pth\n",
      "QOnnx Model checkpoint is saved in 27ml_rf/model_brevitas.onnx\n"
     ]
    },
    {
     "data": {
      "application/vnd.jupyter.widget-view+json": {
       "model_id": "61055e5da966404b8bc139910e569d31",
       "version_major": 2,
       "version_minor": 0
      },
      "text/plain": [
       "Training Batches:   0%|          | 0/2527 [00:00<?, ?it/s]"
      ]
     },
     "metadata": {},
     "output_type": "display_data"
    },
    {
     "data": {
      "application/vnd.jupyter.widget-view+json": {
       "model_id": "12f23483e586410ba22960af5805f06a",
       "version_major": 2,
       "version_minor": 0
      },
      "text/plain": [
       "Testing Batches:   0%|          | 0/282 [00:00<?, ?it/s]"
      ]
     },
     "metadata": {},
     "output_type": "display_data"
    },
    {
     "name": "stdout",
     "output_type": "stream",
     "text": [
      "Epoch 5: Training loss = 1.224923, validation accuracy = 0.601553\n"
     ]
    },
    {
     "data": {
      "application/vnd.jupyter.widget-view+json": {
       "model_id": "9464b3d623b24ab38718f392e332140b",
       "version_major": 2,
       "version_minor": 0
      },
      "text/plain": [
       "Training Batches:   0%|          | 0/2527 [00:00<?, ?it/s]"
      ]
     },
     "metadata": {},
     "output_type": "display_data"
    },
    {
     "data": {
      "application/vnd.jupyter.widget-view+json": {
       "model_id": "b128b5fcc55a4e639eb04805dd0fc311",
       "version_major": 2,
       "version_minor": 0
      },
      "text/plain": [
       "Testing Batches:   0%|          | 0/282 [00:00<?, ?it/s]"
      ]
     },
     "metadata": {},
     "output_type": "display_data"
    },
    {
     "name": "stdout",
     "output_type": "stream",
     "text": [
      "Epoch 6: Training loss = 1.212175, validation accuracy = 0.607922\n"
     ]
    },
    {
     "data": {
      "application/vnd.jupyter.widget-view+json": {
       "model_id": "7fe5dacd9bb64207ad828321fd4fb158",
       "version_major": 2,
       "version_minor": 0
      },
      "text/plain": [
       "Training Batches:   0%|          | 0/2527 [00:00<?, ?it/s]"
      ]
     },
     "metadata": {},
     "output_type": "display_data"
    },
    {
     "data": {
      "application/vnd.jupyter.widget-view+json": {
       "model_id": "b919f0e095b047fea55960889eb590d2",
       "version_major": 2,
       "version_minor": 0
      },
      "text/plain": [
       "Testing Batches:   0%|          | 0/282 [00:00<?, ?it/s]"
      ]
     },
     "metadata": {},
     "output_type": "display_data"
    },
    {
     "name": "stdout",
     "output_type": "stream",
     "text": [
      "Epoch 7: Training loss = 1.197741, validation accuracy = 0.608547\n"
     ]
    },
    {
     "data": {
      "application/vnd.jupyter.widget-view+json": {
       "model_id": "613325e373f6420d89ab8901b2aa7158",
       "version_major": 2,
       "version_minor": 0
      },
      "text/plain": [
       "Training Batches:   0%|          | 0/2527 [00:00<?, ?it/s]"
      ]
     },
     "metadata": {},
     "output_type": "display_data"
    },
    {
     "data": {
      "application/vnd.jupyter.widget-view+json": {
       "model_id": "3300caf732f840b08ff78cbad241758a",
       "version_major": 2,
       "version_minor": 0
      },
      "text/plain": [
       "Testing Batches:   0%|          | 0/282 [00:00<?, ?it/s]"
      ]
     },
     "metadata": {},
     "output_type": "display_data"
    },
    {
     "name": "stdout",
     "output_type": "stream",
     "text": [
      "Epoch 8: Training loss = 1.181163, validation accuracy = 0.617674\n"
     ]
    },
    {
     "data": {
      "application/vnd.jupyter.widget-view+json": {
       "model_id": "1c3617ba4bac4ad39f80446b10785e32",
       "version_major": 2,
       "version_minor": 0
      },
      "text/plain": [
       "Training Batches:   0%|          | 0/2527 [00:00<?, ?it/s]"
      ]
     },
     "metadata": {},
     "output_type": "display_data"
    },
    {
     "data": {
      "application/vnd.jupyter.widget-view+json": {
       "model_id": "f4085a5c6e054c92b123f5254ae77490",
       "version_major": 2,
       "version_minor": 0
      },
      "text/plain": [
       "Testing Batches:   0%|          | 0/282 [00:00<?, ?it/s]"
      ]
     },
     "metadata": {},
     "output_type": "display_data"
    },
    {
     "name": "stdout",
     "output_type": "stream",
     "text": [
      "Epoch 9: Training loss = 1.166812, validation accuracy = 0.623789\n",
      "Model checkpoint is saved in 27ml_rf/model_brevitas.pth\n",
      "QOnnx Model checkpoint is saved in 27ml_rf/model_brevitas.onnx\n"
     ]
    },
    {
     "data": {
      "application/vnd.jupyter.widget-view+json": {
       "model_id": "25992eaa423e4436ac8ffbdc45260060",
       "version_major": 2,
       "version_minor": 0
      },
      "text/plain": [
       "Training Batches:   0%|          | 0/2527 [00:00<?, ?it/s]"
      ]
     },
     "metadata": {},
     "output_type": "display_data"
    },
    {
     "data": {
      "application/vnd.jupyter.widget-view+json": {
       "model_id": "e87786627bcb4508ab84978ab8ad493d",
       "version_major": 2,
       "version_minor": 0
      },
      "text/plain": [
       "Testing Batches:   0%|          | 0/282 [00:00<?, ?it/s]"
      ]
     },
     "metadata": {},
     "output_type": "display_data"
    },
    {
     "name": "stdout",
     "output_type": "stream",
     "text": [
      "Epoch 10: Training loss = 1.203199, validation accuracy = 0.608488\n"
     ]
    },
    {
     "data": {
      "application/vnd.jupyter.widget-view+json": {
       "model_id": "d2bcee1f2ab34a70b2e67b1055ef26f1",
       "version_major": 2,
       "version_minor": 0
      },
      "text/plain": [
       "Training Batches:   0%|          | 0/2527 [00:00<?, ?it/s]"
      ]
     },
     "metadata": {},
     "output_type": "display_data"
    },
    {
     "data": {
      "application/vnd.jupyter.widget-view+json": {
       "model_id": "3cc8652685314268baeb1f2784a6b6a7",
       "version_major": 2,
       "version_minor": 0
      },
      "text/plain": [
       "Testing Batches:   0%|          | 0/282 [00:00<?, ?it/s]"
      ]
     },
     "metadata": {},
     "output_type": "display_data"
    },
    {
     "name": "stdout",
     "output_type": "stream",
     "text": [
      "Epoch 11: Training loss = 1.195340, validation accuracy = 0.598148\n"
     ]
    },
    {
     "data": {
      "application/vnd.jupyter.widget-view+json": {
       "model_id": "26888a86776f4deda633d82ebf49e198",
       "version_major": 2,
       "version_minor": 0
      },
      "text/plain": [
       "Training Batches:   0%|          | 0/2527 [00:00<?, ?it/s]"
      ]
     },
     "metadata": {},
     "output_type": "display_data"
    },
    {
     "data": {
      "application/vnd.jupyter.widget-view+json": {
       "model_id": "4645fbd50cca415ca9f1b8719aad5fcb",
       "version_major": 2,
       "version_minor": 0
      },
      "text/plain": [
       "Testing Batches:   0%|          | 0/282 [00:00<?, ?it/s]"
      ]
     },
     "metadata": {},
     "output_type": "display_data"
    },
    {
     "name": "stdout",
     "output_type": "stream",
     "text": [
      "Epoch 12: Training loss = 1.182924, validation accuracy = 0.614874\n"
     ]
    },
    {
     "data": {
      "application/vnd.jupyter.widget-view+json": {
       "model_id": "cbefbb09d05f4c05a33067a8e1deda54",
       "version_major": 2,
       "version_minor": 0
      },
      "text/plain": [
       "Training Batches:   0%|          | 0/2527 [00:00<?, ?it/s]"
      ]
     },
     "metadata": {},
     "output_type": "display_data"
    },
    {
     "data": {
      "application/vnd.jupyter.widget-view+json": {
       "model_id": "1b55585fd8804dc5af483f498a239974",
       "version_major": 2,
       "version_minor": 0
      },
      "text/plain": [
       "Testing Batches:   0%|          | 0/282 [00:00<?, ?it/s]"
      ]
     },
     "metadata": {},
     "output_type": "display_data"
    },
    {
     "name": "stdout",
     "output_type": "stream",
     "text": [
      "Epoch 13: Training loss = 1.168850, validation accuracy = 0.622775\n"
     ]
    },
    {
     "data": {
      "application/vnd.jupyter.widget-view+json": {
       "model_id": "8ef05e5ed5544471951a1f635a3ac9eb",
       "version_major": 2,
       "version_minor": 0
      },
      "text/plain": [
       "Training Batches:   0%|          | 0/2527 [00:00<?, ?it/s]"
      ]
     },
     "metadata": {},
     "output_type": "display_data"
    },
    {
     "data": {
      "application/vnd.jupyter.widget-view+json": {
       "model_id": "3b1666a7511b418f8e8edb21b7d03873",
       "version_major": 2,
       "version_minor": 0
      },
      "text/plain": [
       "Testing Batches:   0%|          | 0/282 [00:00<?, ?it/s]"
      ]
     },
     "metadata": {},
     "output_type": "display_data"
    },
    {
     "name": "stdout",
     "output_type": "stream",
     "text": [
      "Epoch 14: Training loss = 1.156030, validation accuracy = 0.627194\n",
      "Model checkpoint is saved in 27ml_rf/model_brevitas.pth\n",
      "QOnnx Model checkpoint is saved in 27ml_rf/model_brevitas.onnx\n"
     ]
    },
    {
     "data": {
      "application/vnd.jupyter.widget-view+json": {
       "model_id": "b0b453bfbccd40de92e85cb363ca8003",
       "version_major": 2,
       "version_minor": 0
      },
      "text/plain": [
       "Training Batches:   0%|          | 0/2527 [00:00<?, ?it/s]"
      ]
     },
     "metadata": {},
     "output_type": "display_data"
    },
    {
     "data": {
      "application/vnd.jupyter.widget-view+json": {
       "model_id": "16360e27c61045db966775ca1d9a8265",
       "version_major": 2,
       "version_minor": 0
      },
      "text/plain": [
       "Testing Batches:   0%|          | 0/282 [00:00<?, ?it/s]"
      ]
     },
     "metadata": {},
     "output_type": "display_data"
    },
    {
     "name": "stdout",
     "output_type": "stream",
     "text": [
      "Epoch 15: Training loss = 1.190456, validation accuracy = 0.613272\n"
     ]
    },
    {
     "data": {
      "application/vnd.jupyter.widget-view+json": {
       "model_id": "17adc11a0d7c46d78347f28e8623c5da",
       "version_major": 2,
       "version_minor": 0
      },
      "text/plain": [
       "Training Batches:   0%|          | 0/2527 [00:00<?, ?it/s]"
      ]
     },
     "metadata": {},
     "output_type": "display_data"
    },
    {
     "data": {
      "application/vnd.jupyter.widget-view+json": {
       "model_id": "2518592f4879441b97f5b9b6cd8a8db6",
       "version_major": 2,
       "version_minor": 0
      },
      "text/plain": [
       "Testing Batches:   0%|          | 0/282 [00:00<?, ?it/s]"
      ]
     },
     "metadata": {},
     "output_type": "display_data"
    },
    {
     "name": "stdout",
     "output_type": "stream",
     "text": [
      "Epoch 16: Training loss = 1.184021, validation accuracy = 0.614179\n"
     ]
    },
    {
     "data": {
      "application/vnd.jupyter.widget-view+json": {
       "model_id": "afdd4259de474eb8be58f4b5ed572891",
       "version_major": 2,
       "version_minor": 0
      },
      "text/plain": [
       "Training Batches:   0%|          | 0/2527 [00:00<?, ?it/s]"
      ]
     },
     "metadata": {},
     "output_type": "display_data"
    },
    {
     "data": {
      "application/vnd.jupyter.widget-view+json": {
       "model_id": "ea17e7dfaadb464fb6a941caac308c7e",
       "version_major": 2,
       "version_minor": 0
      },
      "text/plain": [
       "Testing Batches:   0%|          | 0/282 [00:00<?, ?it/s]"
      ]
     },
     "metadata": {},
     "output_type": "display_data"
    },
    {
     "name": "stdout",
     "output_type": "stream",
     "text": [
      "Epoch 17: Training loss = 1.173422, validation accuracy = 0.616486\n"
     ]
    },
    {
     "data": {
      "application/vnd.jupyter.widget-view+json": {
       "model_id": "f510d46024584ccf9d010c7df3bce706",
       "version_major": 2,
       "version_minor": 0
      },
      "text/plain": [
       "Training Batches:   0%|          | 0/2527 [00:00<?, ?it/s]"
      ]
     },
     "metadata": {},
     "output_type": "display_data"
    },
    {
     "data": {
      "application/vnd.jupyter.widget-view+json": {
       "model_id": "a62a91bd5efa47558a52a12eff69e304",
       "version_major": 2,
       "version_minor": 0
      },
      "text/plain": [
       "Testing Batches:   0%|          | 0/282 [00:00<?, ?it/s]"
      ]
     },
     "metadata": {},
     "output_type": "display_data"
    },
    {
     "name": "stdout",
     "output_type": "stream",
     "text": [
      "Epoch 18: Training loss = 1.160567, validation accuracy = 0.623751\n"
     ]
    },
    {
     "data": {
      "application/vnd.jupyter.widget-view+json": {
       "model_id": "0a775bc1061244a481556877eee8e10c",
       "version_major": 2,
       "version_minor": 0
      },
      "text/plain": [
       "Training Batches:   0%|          | 0/2527 [00:00<?, ?it/s]"
      ]
     },
     "metadata": {},
     "output_type": "display_data"
    },
    {
     "data": {
      "application/vnd.jupyter.widget-view+json": {
       "model_id": "67331aad5f474820a3af5cdec893237f",
       "version_major": 2,
       "version_minor": 0
      },
      "text/plain": [
       "Testing Batches:   0%|          | 0/282 [00:00<?, ?it/s]"
      ]
     },
     "metadata": {},
     "output_type": "display_data"
    },
    {
     "name": "stdout",
     "output_type": "stream",
     "text": [
      "Epoch 19: Training loss = 1.149029, validation accuracy = 0.629383\n",
      "Model checkpoint is saved in 27ml_rf/model_brevitas.pth\n",
      "QOnnx Model checkpoint is saved in 27ml_rf/model_brevitas.onnx\n"
     ]
    },
    {
     "data": {
      "application/vnd.jupyter.widget-view+json": {
       "model_id": "b7cb77210e894d82a0b6cbb3362bf76d",
       "version_major": 2,
       "version_minor": 0
      },
      "text/plain": [
       "Training Batches:   0%|          | 0/2527 [00:00<?, ?it/s]"
      ]
     },
     "metadata": {},
     "output_type": "display_data"
    },
    {
     "data": {
      "application/vnd.jupyter.widget-view+json": {
       "model_id": "47b92d76c3af4af682d20c0902b88dde",
       "version_major": 2,
       "version_minor": 0
      },
      "text/plain": [
       "Testing Batches:   0%|          | 0/282 [00:00<?, ?it/s]"
      ]
     },
     "metadata": {},
     "output_type": "display_data"
    },
    {
     "name": "stdout",
     "output_type": "stream",
     "text": [
      "Epoch 20: Training loss = 1.181911, validation accuracy = 0.618522\n"
     ]
    },
    {
     "data": {
      "application/vnd.jupyter.widget-view+json": {
       "model_id": "2d0d94bf672d4f6296a5a5758eb71667",
       "version_major": 2,
       "version_minor": 0
      },
      "text/plain": [
       "Training Batches:   0%|          | 0/2527 [00:00<?, ?it/s]"
      ]
     },
     "metadata": {},
     "output_type": "display_data"
    },
    {
     "data": {
      "application/vnd.jupyter.widget-view+json": {
       "model_id": "7a69ee88ede841919433d74b0c4fbbb7",
       "version_major": 2,
       "version_minor": 0
      },
      "text/plain": [
       "Testing Batches:   0%|          | 0/282 [00:00<?, ?it/s]"
      ]
     },
     "metadata": {},
     "output_type": "display_data"
    },
    {
     "name": "stdout",
     "output_type": "stream",
     "text": [
      "Epoch 21: Training loss = 1.176500, validation accuracy = 0.615503\n"
     ]
    },
    {
     "data": {
      "application/vnd.jupyter.widget-view+json": {
       "model_id": "be14cde3e7414fd7a8f313e1065dfd2d",
       "version_major": 2,
       "version_minor": 0
      },
      "text/plain": [
       "Training Batches:   0%|          | 0/2527 [00:00<?, ?it/s]"
      ]
     },
     "metadata": {},
     "output_type": "display_data"
    },
    {
     "data": {
      "application/vnd.jupyter.widget-view+json": {
       "model_id": "4a080c8bd88544efae6ac4c5dda799d9",
       "version_major": 2,
       "version_minor": 0
      },
      "text/plain": [
       "Testing Batches:   0%|          | 0/282 [00:00<?, ?it/s]"
      ]
     },
     "metadata": {},
     "output_type": "display_data"
    },
    {
     "name": "stdout",
     "output_type": "stream",
     "text": [
      "Epoch 22: Training loss = 1.167122, validation accuracy = 0.618223\n"
     ]
    },
    {
     "data": {
      "application/vnd.jupyter.widget-view+json": {
       "model_id": "b10cf67ed71d45db97558e22948e79b6",
       "version_major": 2,
       "version_minor": 0
      },
      "text/plain": [
       "Training Batches:   0%|          | 0/2527 [00:00<?, ?it/s]"
      ]
     },
     "metadata": {},
     "output_type": "display_data"
    },
    {
     "data": {
      "application/vnd.jupyter.widget-view+json": {
       "model_id": "7b791c27943b4689a04b5a50c2a41658",
       "version_major": 2,
       "version_minor": 0
      },
      "text/plain": [
       "Testing Batches:   0%|          | 0/282 [00:00<?, ?it/s]"
      ]
     },
     "metadata": {},
     "output_type": "display_data"
    },
    {
     "name": "stdout",
     "output_type": "stream",
     "text": [
      "Epoch 23: Training loss = 1.155429, validation accuracy = 0.625936\n"
     ]
    },
    {
     "data": {
      "application/vnd.jupyter.widget-view+json": {
       "model_id": "1e4111d9ba064d59b841425a24c6f77f",
       "version_major": 2,
       "version_minor": 0
      },
      "text/plain": [
       "Training Batches:   0%|          | 0/2527 [00:00<?, ?it/s]"
      ]
     },
     "metadata": {},
     "output_type": "display_data"
    },
    {
     "data": {
      "application/vnd.jupyter.widget-view+json": {
       "model_id": "34f37d57aff746b190495da1e31af405",
       "version_major": 2,
       "version_minor": 0
      },
      "text/plain": [
       "Testing Batches:   0%|          | 0/282 [00:00<?, ?it/s]"
      ]
     },
     "metadata": {},
     "output_type": "display_data"
    },
    {
     "name": "stdout",
     "output_type": "stream",
     "text": [
      "Epoch 24: Training loss = 1.144246, validation accuracy = 0.631506\n",
      "Model checkpoint is saved in 27ml_rf/model_brevitas.pth\n",
      "QOnnx Model checkpoint is saved in 27ml_rf/model_brevitas.onnx\n"
     ]
    },
    {
     "data": {
      "application/vnd.jupyter.widget-view+json": {
       "model_id": "3dea9f29a4084e62b15b6bef95dbd59c",
       "version_major": 2,
       "version_minor": 0
      },
      "text/plain": [
       "Training Batches:   0%|          | 0/2527 [00:00<?, ?it/s]"
      ]
     },
     "metadata": {},
     "output_type": "display_data"
    },
    {
     "data": {
      "application/vnd.jupyter.widget-view+json": {
       "model_id": "db3d3b2b46204875af2b8c17a0e35c64",
       "version_major": 2,
       "version_minor": 0
      },
      "text/plain": [
       "Testing Batches:   0%|          | 0/282 [00:00<?, ?it/s]"
      ]
     },
     "metadata": {},
     "output_type": "display_data"
    },
    {
     "name": "stdout",
     "output_type": "stream",
     "text": [
      "Epoch 25: Training loss = 1.175557, validation accuracy = 0.615315\n"
     ]
    },
    {
     "data": {
      "application/vnd.jupyter.widget-view+json": {
       "model_id": "7930bf4e22c84084a1ff7914ee8029fd",
       "version_major": 2,
       "version_minor": 0
      },
      "text/plain": [
       "Training Batches:   0%|          | 0/2527 [00:00<?, ?it/s]"
      ]
     },
     "metadata": {},
     "output_type": "display_data"
    },
    {
     "data": {
      "application/vnd.jupyter.widget-view+json": {
       "model_id": "73d77f05c0dd4b98beb22031b554d02a",
       "version_major": 2,
       "version_minor": 0
      },
      "text/plain": [
       "Testing Batches:   0%|          | 0/282 [00:00<?, ?it/s]"
      ]
     },
     "metadata": {},
     "output_type": "display_data"
    },
    {
     "name": "stdout",
     "output_type": "stream",
     "text": [
      "Epoch 26: Training loss = 1.171201, validation accuracy = 0.617699\n"
     ]
    },
    {
     "data": {
      "application/vnd.jupyter.widget-view+json": {
       "model_id": "a268b19dca86431995c614c2ab28fb74",
       "version_major": 2,
       "version_minor": 0
      },
      "text/plain": [
       "Training Batches:   0%|          | 0/2527 [00:00<?, ?it/s]"
      ]
     },
     "metadata": {},
     "output_type": "display_data"
    },
    {
     "data": {
      "application/vnd.jupyter.widget-view+json": {
       "model_id": "aae0c4c847384dd287b4766e7e4c4a9f",
       "version_major": 2,
       "version_minor": 0
      },
      "text/plain": [
       "Testing Batches:   0%|          | 0/282 [00:00<?, ?it/s]"
      ]
     },
     "metadata": {},
     "output_type": "display_data"
    },
    {
     "name": "stdout",
     "output_type": "stream",
     "text": [
      "Epoch 27: Training loss = 1.162289, validation accuracy = 0.623421\n"
     ]
    },
    {
     "data": {
      "application/vnd.jupyter.widget-view+json": {
       "model_id": "a041b4292a824909bbe38dab97e402c4",
       "version_major": 2,
       "version_minor": 0
      },
      "text/plain": [
       "Training Batches:   0%|          | 0/2527 [00:00<?, ?it/s]"
      ]
     },
     "metadata": {},
     "output_type": "display_data"
    },
    {
     "data": {
      "application/vnd.jupyter.widget-view+json": {
       "model_id": "70df5c3d274e49eeacfc95a540d05b27",
       "version_major": 2,
       "version_minor": 0
      },
      "text/plain": [
       "Testing Batches:   0%|          | 0/282 [00:00<?, ?it/s]"
      ]
     },
     "metadata": {},
     "output_type": "display_data"
    },
    {
     "name": "stdout",
     "output_type": "stream",
     "text": [
      "Epoch 29: Training loss = 1.140278, validation accuracy = 0.631746\n",
      "Model checkpoint is saved in 27ml_rf/model_brevitas.pth\n",
      "QOnnx Model checkpoint is saved in 27ml_rf/model_brevitas.onnx\n"
     ]
    },
    {
     "data": {
      "application/vnd.jupyter.widget-view+json": {
       "model_id": "f196e80f60f2415595082707eadf00ac",
       "version_major": 2,
       "version_minor": 0
      },
      "text/plain": [
       "Training Batches:   0%|          | 0/2527 [00:00<?, ?it/s]"
      ]
     },
     "metadata": {},
     "output_type": "display_data"
    },
    {
     "data": {
      "application/vnd.jupyter.widget-view+json": {
       "model_id": "962c8042c03e455db35f3aeeb6b15730",
       "version_major": 2,
       "version_minor": 0
      },
      "text/plain": [
       "Testing Batches:   0%|          | 0/282 [00:00<?, ?it/s]"
      ]
     },
     "metadata": {},
     "output_type": "display_data"
    },
    {
     "name": "stdout",
     "output_type": "stream",
     "text": [
      "Epoch 30: Training loss = 1.171271, validation accuracy = 0.617066\n"
     ]
    },
    {
     "data": {
      "application/vnd.jupyter.widget-view+json": {
       "model_id": "567e030dc4a54a349e926a2c1a879d08",
       "version_major": 2,
       "version_minor": 0
      },
      "text/plain": [
       "Training Batches:   0%|          | 0/2527 [00:00<?, ?it/s]"
      ]
     },
     "metadata": {},
     "output_type": "display_data"
    },
    {
     "data": {
      "application/vnd.jupyter.widget-view+json": {
       "model_id": "092a23e3f8664125879de47731f35fb8",
       "version_major": 2,
       "version_minor": 0
      },
      "text/plain": [
       "Testing Batches:   0%|          | 0/282 [00:00<?, ?it/s]"
      ]
     },
     "metadata": {},
     "output_type": "display_data"
    },
    {
     "name": "stdout",
     "output_type": "stream",
     "text": [
      "Epoch 31: Training loss = 1.166537, validation accuracy = 0.621607\n"
     ]
    },
    {
     "data": {
      "application/vnd.jupyter.widget-view+json": {
       "model_id": "673831b818eb4de9bc4ba2a4cf12226b",
       "version_major": 2,
       "version_minor": 0
      },
      "text/plain": [
       "Training Batches:   0%|          | 0/2527 [00:00<?, ?it/s]"
      ]
     },
     "metadata": {},
     "output_type": "display_data"
    },
    {
     "data": {
      "application/vnd.jupyter.widget-view+json": {
       "model_id": "242c0bf3e8284ea5a0f7ed875791ff6f",
       "version_major": 2,
       "version_minor": 0
      },
      "text/plain": [
       "Testing Batches:   0%|          | 0/282 [00:00<?, ?it/s]"
      ]
     },
     "metadata": {},
     "output_type": "display_data"
    },
    {
     "name": "stdout",
     "output_type": "stream",
     "text": [
      "Epoch 32: Training loss = 1.158186, validation accuracy = 0.625790\n"
     ]
    },
    {
     "data": {
      "application/vnd.jupyter.widget-view+json": {
       "model_id": "2f771e85dd994318abe2c6b0fca9d145",
       "version_major": 2,
       "version_minor": 0
      },
      "text/plain": [
       "Training Batches:   0%|          | 0/2527 [00:00<?, ?it/s]"
      ]
     },
     "metadata": {},
     "output_type": "display_data"
    },
    {
     "name": "stderr",
     "output_type": "stream",
     "text": [
      "IOPub message rate exceeded.\n",
      "The Jupyter server will temporarily stop sending output\n",
      "to the client in order to avoid crashing it.\n",
      "To change this limit, set the config variable\n",
      "`--ServerApp.iopub_msg_rate_limit`.\n",
      "\n",
      "Current values:\n",
      "ServerApp.iopub_msg_rate_limit=1000.0 (msgs/sec)\n",
      "ServerApp.rate_limit_window=3.0 (secs)\n",
      "\n"
     ]
    }
   ],
   "source": [
    "from brevitas.export import export_qonnx\n",
    "from qonnx.util.cleanup import cleanup as qonnx_cleanup\n",
    "\n",
    "batch_size = 1024\n",
    "num_epochs = 100\n",
    "early_stop = 10\n",
    "\n",
    "data_loader_train = DataLoader(dataset, batch_size=batch_size, sampler=dataset.train_sampler)\n",
    "data_loader_test = DataLoader(dataset, batch_size=batch_size, sampler=dataset.test_sampler)\n",
    "\n",
    "model = model.to(gpu)\n",
    "\n",
    "# loss criterion and optimizer\n",
    "criterion = nn.CrossEntropyLoss()\n",
    "criterion = criterion.to(gpu)\n",
    "optimizer = torch.optim.Adam(model.parameters(), lr=0.01)\n",
    "lr_scheduler = torch.optim.lr_scheduler.CosineAnnealingWarmRestarts(optimizer, T_0=5, T_mult=1)\n",
    "\n",
    "running_loss = []\n",
    "running_test_acc = []\n",
    "training_time=time.time()\n",
    "best_val_acc = float('-inf')\n",
    "count = 0\n",
    "for epoch in tqdm(range(num_epochs), desc=\"Epochs\"):\n",
    "        loss_epoch = train(model, data_loader_train, optimizer, criterion)\n",
    "\n",
    "        test_acc = test(model, data_loader_test)\n",
    "        print(\"Epoch %d: Training loss = %f, validation accuracy = %f\" % (epoch, np.mean(loss_epoch), test_acc))\n",
    "\n",
    "        if test_acc > best_val_acc:\n",
    "            torch.save(model.state_dict(), chpt_path)\n",
    "            print(f'Model checkpoint is saved in {chpt_path}')\n",
    "    \n",
    "            export_qonnx(model.to('cuda'), torch.randn(1, 2, 1024).to('cuda'), export_path=onnx_file)\n",
    "            qonnx_cleanup(str(onnx_file), out_file=str(onnx_file))\n",
    "            print(f'QOnnx Model checkpoint is saved in {onnx_file}')\n",
    "            best_val_acc = test_acc\n",
    "            count = 0\n",
    "        else:\n",
    "            count+=1\n",
    "\n",
    "        running_loss.append(loss_epoch)\n",
    "        running_test_acc.append(test_acc)\n",
    "        lr_scheduler.step()\n",
    "    \n",
    "        if count > early_stop:\n",
    "            print(\"Stopping early\")\n",
    "            break\n",
    "\n",
    "training_time=time.time()-training_time\n",
    "print(f'total training time: {training_time}')"
   ]
  },
  {
   "cell_type": "code",
   "execution_count": null,
   "metadata": {},
   "outputs": [],
   "source": [
    "# Plot training loss over epochs\n",
    "loss_per_epoch = [np.mean(loss_per_epoch) for loss_per_epoch in running_loss]\n",
    "display_loss_plot(loss_per_epoch)"
   ]
  },
  {
   "cell_type": "code",
   "execution_count": 10,
   "metadata": {},
   "outputs": [],
   "source": [
    "# Plot test accuracy over epochs\n",
    "acc_per_epoch = [np.mean(acc_per_epoch) for acc_per_epoch in running_test_acc]\n",
    "display_loss_plot(acc_per_epoch, title=\"Test accuracy\", ylabel=\"Accuracy [%]\")"
   ]
  },
  {
   "cell_type": "markdown",
   "metadata": {},
   "source": [
    "## Save the model parameters"
   ]
  },
  {
   "cell_type": "code",
   "execution_count": 11,
   "metadata": {},
   "outputs": [],
   "source": [
    "# Save the trained parameters to disk\n",
    "torch.save(model.state_dict(), chpt_path)"
   ]
  },
  {
   "cell_type": "markdown",
   "metadata": {},
   "source": [
    "## Or load a different model"
   ]
  },
  {
   "cell_type": "code",
   "execution_count": 17,
   "metadata": {
    "scrolled": true
   },
   "outputs": [
    {
     "data": {
      "text/plain": [
       "Sequential(\n",
       "  (0): QuantHardTanh(\n",
       "    (input_quant): ActQuantProxyFromInjector(\n",
       "      (_zero_hw_sentinel): StatelessBuffer()\n",
       "      (export_handler): None\n",
       "    )\n",
       "    (act_quant): ActQuantProxyFromInjector(\n",
       "      (_zero_hw_sentinel): StatelessBuffer()\n",
       "      (fused_activation_quant_proxy): FusedActivationQuantProxy(\n",
       "        (activation_impl): Identity()\n",
       "        (tensor_quant): RescalingIntQuant(\n",
       "          (int_quant): IntQuant(\n",
       "            (float_to_int_impl): RoundSte()\n",
       "            (tensor_clamp_impl): TensorClamp()\n",
       "            (delay_wrapper): DelayWrapper(\n",
       "              (delay_impl): _NoDelay()\n",
       "            )\n",
       "          )\n",
       "          (scaling_impl): ConstScaling(\n",
       "            (restrict_clamp_scaling): _RestrictClampValue(\n",
       "              (clamp_min_ste): Identity()\n",
       "              (restrict_value_impl): FloatRestrictValue()\n",
       "            )\n",
       "            (value): StatelessBuffer()\n",
       "          )\n",
       "          (int_scaling_impl): IntScaling()\n",
       "          (zero_point_impl): ZeroZeroPoint(\n",
       "            (zero_point): StatelessBuffer()\n",
       "          )\n",
       "          (msb_clamp_bit_width_impl): BitWidthConst(\n",
       "            (bit_width): StatelessBuffer()\n",
       "          )\n",
       "        )\n",
       "      )\n",
       "      (export_handler): None\n",
       "    )\n",
       "  )\n",
       "  (1): QuantConv1d(\n",
       "    2, 64, kernel_size=(3,), stride=(1,), padding=(1,), bias=False\n",
       "    (input_quant): ActQuantProxyFromInjector(\n",
       "      (_zero_hw_sentinel): StatelessBuffer()\n",
       "      (export_handler): None\n",
       "    )\n",
       "    (output_quant): ActQuantProxyFromInjector(\n",
       "      (_zero_hw_sentinel): StatelessBuffer()\n",
       "      (export_handler): None\n",
       "    )\n",
       "    (weight_quant): WeightQuantProxyFromInjector(\n",
       "      (_zero_hw_sentinel): StatelessBuffer()\n",
       "      (tensor_quant): RescalingIntQuant(\n",
       "        (int_quant): IntQuant(\n",
       "          (float_to_int_impl): RoundSte()\n",
       "          (tensor_clamp_impl): TensorClampSte()\n",
       "          (delay_wrapper): DelayWrapper(\n",
       "            (delay_impl): _NoDelay()\n",
       "          )\n",
       "        )\n",
       "        (scaling_impl): StatsFromParameterScaling(\n",
       "          (parameter_list_stats): _ParameterListStats(\n",
       "            (first_tracked_param): _ViewParameterWrapper(\n",
       "              (view_shape_impl): OverTensorView()\n",
       "            )\n",
       "            (stats): _Stats(\n",
       "              (stats_impl): AbsMax()\n",
       "            )\n",
       "          )\n",
       "          (stats_scaling_impl): _StatsScaling(\n",
       "            (affine_rescaling): Identity()\n",
       "            (restrict_clamp_scaling): _RestrictClampValue(\n",
       "              (clamp_min_ste): ScalarClampMinSte()\n",
       "              (restrict_value_impl): FloatRestrictValue()\n",
       "            )\n",
       "            (restrict_scaling_pre): Identity()\n",
       "          )\n",
       "        )\n",
       "        (int_scaling_impl): IntScaling()\n",
       "        (zero_point_impl): ZeroZeroPoint(\n",
       "          (zero_point): StatelessBuffer()\n",
       "        )\n",
       "        (msb_clamp_bit_width_impl): BitWidthConst(\n",
       "          (bit_width): StatelessBuffer()\n",
       "        )\n",
       "      )\n",
       "      (export_handler): None\n",
       "    )\n",
       "    (bias_quant): BiasQuantProxyFromInjector(\n",
       "      (_zero_hw_sentinel): StatelessBuffer()\n",
       "      (export_handler): None\n",
       "    )\n",
       "  )\n",
       "  (2): BatchNorm1d(64, eps=1e-05, momentum=0.1, affine=True, track_running_stats=True)\n",
       "  (3): QuantReLU(\n",
       "    (input_quant): ActQuantProxyFromInjector(\n",
       "      (_zero_hw_sentinel): StatelessBuffer()\n",
       "      (export_handler): None\n",
       "    )\n",
       "    (act_quant): ActQuantProxyFromInjector(\n",
       "      (_zero_hw_sentinel): StatelessBuffer()\n",
       "      (fused_activation_quant_proxy): FusedActivationQuantProxy(\n",
       "        (activation_impl): ReLU()\n",
       "        (tensor_quant): RescalingIntQuant(\n",
       "          (int_quant): IntQuant(\n",
       "            (float_to_int_impl): RoundSte()\n",
       "            (tensor_clamp_impl): TensorClamp()\n",
       "            (delay_wrapper): DelayWrapper(\n",
       "              (delay_impl): _NoDelay()\n",
       "            )\n",
       "          )\n",
       "          (scaling_impl): ParameterFromRuntimeStatsScaling(\n",
       "            (stats_input_view_shape_impl): OverTensorView()\n",
       "            (stats): _Stats(\n",
       "              (stats_impl): AbsPercentile()\n",
       "            )\n",
       "            (restrict_scaling): _RestrictValue(\n",
       "              (restrict_value_impl): FloatRestrictValue()\n",
       "            )\n",
       "            (clamp_scaling): _ClampValue(\n",
       "              (clamp_min_ste): ScalarClampMinSte()\n",
       "            )\n",
       "            (restrict_inplace_preprocess): Identity()\n",
       "            (restrict_preprocess): Identity()\n",
       "          )\n",
       "          (int_scaling_impl): IntScaling()\n",
       "          (zero_point_impl): ZeroZeroPoint(\n",
       "            (zero_point): StatelessBuffer()\n",
       "          )\n",
       "          (msb_clamp_bit_width_impl): BitWidthConst(\n",
       "            (bit_width): StatelessBuffer()\n",
       "          )\n",
       "        )\n",
       "      )\n",
       "      (export_handler): None\n",
       "    )\n",
       "  )\n",
       "  (4): MaxPool1d(kernel_size=2, stride=2, padding=0, dilation=1, ceil_mode=False)\n",
       "  (5): QuantConv1d(\n",
       "    64, 64, kernel_size=(3,), stride=(1,), padding=(1,), bias=False\n",
       "    (input_quant): ActQuantProxyFromInjector(\n",
       "      (_zero_hw_sentinel): StatelessBuffer()\n",
       "      (export_handler): None\n",
       "    )\n",
       "    (output_quant): ActQuantProxyFromInjector(\n",
       "      (_zero_hw_sentinel): StatelessBuffer()\n",
       "      (export_handler): None\n",
       "    )\n",
       "    (weight_quant): WeightQuantProxyFromInjector(\n",
       "      (_zero_hw_sentinel): StatelessBuffer()\n",
       "      (tensor_quant): RescalingIntQuant(\n",
       "        (int_quant): IntQuant(\n",
       "          (float_to_int_impl): RoundSte()\n",
       "          (tensor_clamp_impl): TensorClampSte()\n",
       "          (delay_wrapper): DelayWrapper(\n",
       "            (delay_impl): _NoDelay()\n",
       "          )\n",
       "        )\n",
       "        (scaling_impl): StatsFromParameterScaling(\n",
       "          (parameter_list_stats): _ParameterListStats(\n",
       "            (first_tracked_param): _ViewParameterWrapper(\n",
       "              (view_shape_impl): OverTensorView()\n",
       "            )\n",
       "            (stats): _Stats(\n",
       "              (stats_impl): AbsMax()\n",
       "            )\n",
       "          )\n",
       "          (stats_scaling_impl): _StatsScaling(\n",
       "            (affine_rescaling): Identity()\n",
       "            (restrict_clamp_scaling): _RestrictClampValue(\n",
       "              (clamp_min_ste): ScalarClampMinSte()\n",
       "              (restrict_value_impl): FloatRestrictValue()\n",
       "            )\n",
       "            (restrict_scaling_pre): Identity()\n",
       "          )\n",
       "        )\n",
       "        (int_scaling_impl): IntScaling()\n",
       "        (zero_point_impl): ZeroZeroPoint(\n",
       "          (zero_point): StatelessBuffer()\n",
       "        )\n",
       "        (msb_clamp_bit_width_impl): BitWidthConst(\n",
       "          (bit_width): StatelessBuffer()\n",
       "        )\n",
       "      )\n",
       "      (export_handler): None\n",
       "    )\n",
       "    (bias_quant): BiasQuantProxyFromInjector(\n",
       "      (_zero_hw_sentinel): StatelessBuffer()\n",
       "      (export_handler): None\n",
       "    )\n",
       "  )\n",
       "  (6): BatchNorm1d(64, eps=1e-05, momentum=0.1, affine=True, track_running_stats=True)\n",
       "  (7): QuantReLU(\n",
       "    (input_quant): ActQuantProxyFromInjector(\n",
       "      (_zero_hw_sentinel): StatelessBuffer()\n",
       "      (export_handler): None\n",
       "    )\n",
       "    (act_quant): ActQuantProxyFromInjector(\n",
       "      (_zero_hw_sentinel): StatelessBuffer()\n",
       "      (fused_activation_quant_proxy): FusedActivationQuantProxy(\n",
       "        (activation_impl): ReLU()\n",
       "        (tensor_quant): RescalingIntQuant(\n",
       "          (int_quant): IntQuant(\n",
       "            (float_to_int_impl): RoundSte()\n",
       "            (tensor_clamp_impl): TensorClamp()\n",
       "            (delay_wrapper): DelayWrapper(\n",
       "              (delay_impl): _NoDelay()\n",
       "            )\n",
       "          )\n",
       "          (scaling_impl): ParameterFromRuntimeStatsScaling(\n",
       "            (stats_input_view_shape_impl): OverTensorView()\n",
       "            (stats): _Stats(\n",
       "              (stats_impl): AbsPercentile()\n",
       "            )\n",
       "            (restrict_scaling): _RestrictValue(\n",
       "              (restrict_value_impl): FloatRestrictValue()\n",
       "            )\n",
       "            (clamp_scaling): _ClampValue(\n",
       "              (clamp_min_ste): ScalarClampMinSte()\n",
       "            )\n",
       "            (restrict_inplace_preprocess): Identity()\n",
       "            (restrict_preprocess): Identity()\n",
       "          )\n",
       "          (int_scaling_impl): IntScaling()\n",
       "          (zero_point_impl): ZeroZeroPoint(\n",
       "            (zero_point): StatelessBuffer()\n",
       "          )\n",
       "          (msb_clamp_bit_width_impl): BitWidthConst(\n",
       "            (bit_width): StatelessBuffer()\n",
       "          )\n",
       "        )\n",
       "      )\n",
       "      (export_handler): None\n",
       "    )\n",
       "  )\n",
       "  (8): MaxPool1d(kernel_size=2, stride=2, padding=0, dilation=1, ceil_mode=False)\n",
       "  (9): QuantConv1d(\n",
       "    64, 64, kernel_size=(3,), stride=(1,), padding=(1,), bias=False\n",
       "    (input_quant): ActQuantProxyFromInjector(\n",
       "      (_zero_hw_sentinel): StatelessBuffer()\n",
       "      (export_handler): None\n",
       "    )\n",
       "    (output_quant): ActQuantProxyFromInjector(\n",
       "      (_zero_hw_sentinel): StatelessBuffer()\n",
       "      (export_handler): None\n",
       "    )\n",
       "    (weight_quant): WeightQuantProxyFromInjector(\n",
       "      (_zero_hw_sentinel): StatelessBuffer()\n",
       "      (tensor_quant): RescalingIntQuant(\n",
       "        (int_quant): IntQuant(\n",
       "          (float_to_int_impl): RoundSte()\n",
       "          (tensor_clamp_impl): TensorClampSte()\n",
       "          (delay_wrapper): DelayWrapper(\n",
       "            (delay_impl): _NoDelay()\n",
       "          )\n",
       "        )\n",
       "        (scaling_impl): StatsFromParameterScaling(\n",
       "          (parameter_list_stats): _ParameterListStats(\n",
       "            (first_tracked_param): _ViewParameterWrapper(\n",
       "              (view_shape_impl): OverTensorView()\n",
       "            )\n",
       "            (stats): _Stats(\n",
       "              (stats_impl): AbsMax()\n",
       "            )\n",
       "          )\n",
       "          (stats_scaling_impl): _StatsScaling(\n",
       "            (affine_rescaling): Identity()\n",
       "            (restrict_clamp_scaling): _RestrictClampValue(\n",
       "              (clamp_min_ste): ScalarClampMinSte()\n",
       "              (restrict_value_impl): FloatRestrictValue()\n",
       "            )\n",
       "            (restrict_scaling_pre): Identity()\n",
       "          )\n",
       "        )\n",
       "        (int_scaling_impl): IntScaling()\n",
       "        (zero_point_impl): ZeroZeroPoint(\n",
       "          (zero_point): StatelessBuffer()\n",
       "        )\n",
       "        (msb_clamp_bit_width_impl): BitWidthConst(\n",
       "          (bit_width): StatelessBuffer()\n",
       "        )\n",
       "      )\n",
       "      (export_handler): None\n",
       "    )\n",
       "    (bias_quant): BiasQuantProxyFromInjector(\n",
       "      (_zero_hw_sentinel): StatelessBuffer()\n",
       "      (export_handler): None\n",
       "    )\n",
       "  )\n",
       "  (10): BatchNorm1d(64, eps=1e-05, momentum=0.1, affine=True, track_running_stats=True)\n",
       "  (11): QuantReLU(\n",
       "    (input_quant): ActQuantProxyFromInjector(\n",
       "      (_zero_hw_sentinel): StatelessBuffer()\n",
       "      (export_handler): None\n",
       "    )\n",
       "    (act_quant): ActQuantProxyFromInjector(\n",
       "      (_zero_hw_sentinel): StatelessBuffer()\n",
       "      (fused_activation_quant_proxy): FusedActivationQuantProxy(\n",
       "        (activation_impl): ReLU()\n",
       "        (tensor_quant): RescalingIntQuant(\n",
       "          (int_quant): IntQuant(\n",
       "            (float_to_int_impl): RoundSte()\n",
       "            (tensor_clamp_impl): TensorClamp()\n",
       "            (delay_wrapper): DelayWrapper(\n",
       "              (delay_impl): _NoDelay()\n",
       "            )\n",
       "          )\n",
       "          (scaling_impl): ParameterFromRuntimeStatsScaling(\n",
       "            (stats_input_view_shape_impl): OverTensorView()\n",
       "            (stats): _Stats(\n",
       "              (stats_impl): AbsPercentile()\n",
       "            )\n",
       "            (restrict_scaling): _RestrictValue(\n",
       "              (restrict_value_impl): FloatRestrictValue()\n",
       "            )\n",
       "            (clamp_scaling): _ClampValue(\n",
       "              (clamp_min_ste): ScalarClampMinSte()\n",
       "            )\n",
       "            (restrict_inplace_preprocess): Identity()\n",
       "            (restrict_preprocess): Identity()\n",
       "          )\n",
       "          (int_scaling_impl): IntScaling()\n",
       "          (zero_point_impl): ZeroZeroPoint(\n",
       "            (zero_point): StatelessBuffer()\n",
       "          )\n",
       "          (msb_clamp_bit_width_impl): BitWidthConst(\n",
       "            (bit_width): StatelessBuffer()\n",
       "          )\n",
       "        )\n",
       "      )\n",
       "      (export_handler): None\n",
       "    )\n",
       "  )\n",
       "  (12): MaxPool1d(kernel_size=2, stride=2, padding=0, dilation=1, ceil_mode=False)\n",
       "  (13): QuantConv1d(\n",
       "    64, 64, kernel_size=(3,), stride=(1,), padding=(1,), bias=False\n",
       "    (input_quant): ActQuantProxyFromInjector(\n",
       "      (_zero_hw_sentinel): StatelessBuffer()\n",
       "      (export_handler): None\n",
       "    )\n",
       "    (output_quant): ActQuantProxyFromInjector(\n",
       "      (_zero_hw_sentinel): StatelessBuffer()\n",
       "      (export_handler): None\n",
       "    )\n",
       "    (weight_quant): WeightQuantProxyFromInjector(\n",
       "      (_zero_hw_sentinel): StatelessBuffer()\n",
       "      (tensor_quant): RescalingIntQuant(\n",
       "        (int_quant): IntQuant(\n",
       "          (float_to_int_impl): RoundSte()\n",
       "          (tensor_clamp_impl): TensorClampSte()\n",
       "          (delay_wrapper): DelayWrapper(\n",
       "            (delay_impl): _NoDelay()\n",
       "          )\n",
       "        )\n",
       "        (scaling_impl): StatsFromParameterScaling(\n",
       "          (parameter_list_stats): _ParameterListStats(\n",
       "            (first_tracked_param): _ViewParameterWrapper(\n",
       "              (view_shape_impl): OverTensorView()\n",
       "            )\n",
       "            (stats): _Stats(\n",
       "              (stats_impl): AbsMax()\n",
       "            )\n",
       "          )\n",
       "          (stats_scaling_impl): _StatsScaling(\n",
       "            (affine_rescaling): Identity()\n",
       "            (restrict_clamp_scaling): _RestrictClampValue(\n",
       "              (clamp_min_ste): ScalarClampMinSte()\n",
       "              (restrict_value_impl): FloatRestrictValue()\n",
       "            )\n",
       "            (restrict_scaling_pre): Identity()\n",
       "          )\n",
       "        )\n",
       "        (int_scaling_impl): IntScaling()\n",
       "        (zero_point_impl): ZeroZeroPoint(\n",
       "          (zero_point): StatelessBuffer()\n",
       "        )\n",
       "        (msb_clamp_bit_width_impl): BitWidthConst(\n",
       "          (bit_width): StatelessBuffer()\n",
       "        )\n",
       "      )\n",
       "      (export_handler): None\n",
       "    )\n",
       "    (bias_quant): BiasQuantProxyFromInjector(\n",
       "      (_zero_hw_sentinel): StatelessBuffer()\n",
       "      (export_handler): None\n",
       "    )\n",
       "  )\n",
       "  (14): BatchNorm1d(64, eps=1e-05, momentum=0.1, affine=True, track_running_stats=True)\n",
       "  (15): QuantReLU(\n",
       "    (input_quant): ActQuantProxyFromInjector(\n",
       "      (_zero_hw_sentinel): StatelessBuffer()\n",
       "      (export_handler): None\n",
       "    )\n",
       "    (act_quant): ActQuantProxyFromInjector(\n",
       "      (_zero_hw_sentinel): StatelessBuffer()\n",
       "      (fused_activation_quant_proxy): FusedActivationQuantProxy(\n",
       "        (activation_impl): ReLU()\n",
       "        (tensor_quant): RescalingIntQuant(\n",
       "          (int_quant): IntQuant(\n",
       "            (float_to_int_impl): RoundSte()\n",
       "            (tensor_clamp_impl): TensorClamp()\n",
       "            (delay_wrapper): DelayWrapper(\n",
       "              (delay_impl): _NoDelay()\n",
       "            )\n",
       "          )\n",
       "          (scaling_impl): ParameterFromRuntimeStatsScaling(\n",
       "            (stats_input_view_shape_impl): OverTensorView()\n",
       "            (stats): _Stats(\n",
       "              (stats_impl): AbsPercentile()\n",
       "            )\n",
       "            (restrict_scaling): _RestrictValue(\n",
       "              (restrict_value_impl): FloatRestrictValue()\n",
       "            )\n",
       "            (clamp_scaling): _ClampValue(\n",
       "              (clamp_min_ste): ScalarClampMinSte()\n",
       "            )\n",
       "            (restrict_inplace_preprocess): Identity()\n",
       "            (restrict_preprocess): Identity()\n",
       "          )\n",
       "          (int_scaling_impl): IntScaling()\n",
       "          (zero_point_impl): ZeroZeroPoint(\n",
       "            (zero_point): StatelessBuffer()\n",
       "          )\n",
       "          (msb_clamp_bit_width_impl): BitWidthConst(\n",
       "            (bit_width): StatelessBuffer()\n",
       "          )\n",
       "        )\n",
       "      )\n",
       "      (export_handler): None\n",
       "    )\n",
       "  )\n",
       "  (16): MaxPool1d(kernel_size=2, stride=2, padding=0, dilation=1, ceil_mode=False)\n",
       "  (17): QuantConv1d(\n",
       "    64, 64, kernel_size=(3,), stride=(1,), padding=(1,), bias=False\n",
       "    (input_quant): ActQuantProxyFromInjector(\n",
       "      (_zero_hw_sentinel): StatelessBuffer()\n",
       "      (export_handler): None\n",
       "    )\n",
       "    (output_quant): ActQuantProxyFromInjector(\n",
       "      (_zero_hw_sentinel): StatelessBuffer()\n",
       "      (export_handler): None\n",
       "    )\n",
       "    (weight_quant): WeightQuantProxyFromInjector(\n",
       "      (_zero_hw_sentinel): StatelessBuffer()\n",
       "      (tensor_quant): RescalingIntQuant(\n",
       "        (int_quant): IntQuant(\n",
       "          (float_to_int_impl): RoundSte()\n",
       "          (tensor_clamp_impl): TensorClampSte()\n",
       "          (delay_wrapper): DelayWrapper(\n",
       "            (delay_impl): _NoDelay()\n",
       "          )\n",
       "        )\n",
       "        (scaling_impl): StatsFromParameterScaling(\n",
       "          (parameter_list_stats): _ParameterListStats(\n",
       "            (first_tracked_param): _ViewParameterWrapper(\n",
       "              (view_shape_impl): OverTensorView()\n",
       "            )\n",
       "            (stats): _Stats(\n",
       "              (stats_impl): AbsMax()\n",
       "            )\n",
       "          )\n",
       "          (stats_scaling_impl): _StatsScaling(\n",
       "            (affine_rescaling): Identity()\n",
       "            (restrict_clamp_scaling): _RestrictClampValue(\n",
       "              (clamp_min_ste): ScalarClampMinSte()\n",
       "              (restrict_value_impl): FloatRestrictValue()\n",
       "            )\n",
       "            (restrict_scaling_pre): Identity()\n",
       "          )\n",
       "        )\n",
       "        (int_scaling_impl): IntScaling()\n",
       "        (zero_point_impl): ZeroZeroPoint(\n",
       "          (zero_point): StatelessBuffer()\n",
       "        )\n",
       "        (msb_clamp_bit_width_impl): BitWidthConst(\n",
       "          (bit_width): StatelessBuffer()\n",
       "        )\n",
       "      )\n",
       "      (export_handler): None\n",
       "    )\n",
       "    (bias_quant): BiasQuantProxyFromInjector(\n",
       "      (_zero_hw_sentinel): StatelessBuffer()\n",
       "      (export_handler): None\n",
       "    )\n",
       "  )\n",
       "  (18): BatchNorm1d(64, eps=1e-05, momentum=0.1, affine=True, track_running_stats=True)\n",
       "  (19): QuantReLU(\n",
       "    (input_quant): ActQuantProxyFromInjector(\n",
       "      (_zero_hw_sentinel): StatelessBuffer()\n",
       "      (export_handler): None\n",
       "    )\n",
       "    (act_quant): ActQuantProxyFromInjector(\n",
       "      (_zero_hw_sentinel): StatelessBuffer()\n",
       "      (fused_activation_quant_proxy): FusedActivationQuantProxy(\n",
       "        (activation_impl): ReLU()\n",
       "        (tensor_quant): RescalingIntQuant(\n",
       "          (int_quant): IntQuant(\n",
       "            (float_to_int_impl): RoundSte()\n",
       "            (tensor_clamp_impl): TensorClamp()\n",
       "            (delay_wrapper): DelayWrapper(\n",
       "              (delay_impl): _NoDelay()\n",
       "            )\n",
       "          )\n",
       "          (scaling_impl): ParameterFromRuntimeStatsScaling(\n",
       "            (stats_input_view_shape_impl): OverTensorView()\n",
       "            (stats): _Stats(\n",
       "              (stats_impl): AbsPercentile()\n",
       "            )\n",
       "            (restrict_scaling): _RestrictValue(\n",
       "              (restrict_value_impl): FloatRestrictValue()\n",
       "            )\n",
       "            (clamp_scaling): _ClampValue(\n",
       "              (clamp_min_ste): ScalarClampMinSte()\n",
       "            )\n",
       "            (restrict_inplace_preprocess): Identity()\n",
       "            (restrict_preprocess): Identity()\n",
       "          )\n",
       "          (int_scaling_impl): IntScaling()\n",
       "          (zero_point_impl): ZeroZeroPoint(\n",
       "            (zero_point): StatelessBuffer()\n",
       "          )\n",
       "          (msb_clamp_bit_width_impl): BitWidthConst(\n",
       "            (bit_width): StatelessBuffer()\n",
       "          )\n",
       "        )\n",
       "      )\n",
       "      (export_handler): None\n",
       "    )\n",
       "  )\n",
       "  (20): MaxPool1d(kernel_size=2, stride=2, padding=0, dilation=1, ceil_mode=False)\n",
       "  (21): QuantConv1d(\n",
       "    64, 64, kernel_size=(3,), stride=(1,), padding=(1,), bias=False\n",
       "    (input_quant): ActQuantProxyFromInjector(\n",
       "      (_zero_hw_sentinel): StatelessBuffer()\n",
       "      (export_handler): None\n",
       "    )\n",
       "    (output_quant): ActQuantProxyFromInjector(\n",
       "      (_zero_hw_sentinel): StatelessBuffer()\n",
       "      (export_handler): None\n",
       "    )\n",
       "    (weight_quant): WeightQuantProxyFromInjector(\n",
       "      (_zero_hw_sentinel): StatelessBuffer()\n",
       "      (tensor_quant): RescalingIntQuant(\n",
       "        (int_quant): IntQuant(\n",
       "          (float_to_int_impl): RoundSte()\n",
       "          (tensor_clamp_impl): TensorClampSte()\n",
       "          (delay_wrapper): DelayWrapper(\n",
       "            (delay_impl): _NoDelay()\n",
       "          )\n",
       "        )\n",
       "        (scaling_impl): StatsFromParameterScaling(\n",
       "          (parameter_list_stats): _ParameterListStats(\n",
       "            (first_tracked_param): _ViewParameterWrapper(\n",
       "              (view_shape_impl): OverTensorView()\n",
       "            )\n",
       "            (stats): _Stats(\n",
       "              (stats_impl): AbsMax()\n",
       "            )\n",
       "          )\n",
       "          (stats_scaling_impl): _StatsScaling(\n",
       "            (affine_rescaling): Identity()\n",
       "            (restrict_clamp_scaling): _RestrictClampValue(\n",
       "              (clamp_min_ste): ScalarClampMinSte()\n",
       "              (restrict_value_impl): FloatRestrictValue()\n",
       "            )\n",
       "            (restrict_scaling_pre): Identity()\n",
       "          )\n",
       "        )\n",
       "        (int_scaling_impl): IntScaling()\n",
       "        (zero_point_impl): ZeroZeroPoint(\n",
       "          (zero_point): StatelessBuffer()\n",
       "        )\n",
       "        (msb_clamp_bit_width_impl): BitWidthConst(\n",
       "          (bit_width): StatelessBuffer()\n",
       "        )\n",
       "      )\n",
       "      (export_handler): None\n",
       "    )\n",
       "    (bias_quant): BiasQuantProxyFromInjector(\n",
       "      (_zero_hw_sentinel): StatelessBuffer()\n",
       "      (export_handler): None\n",
       "    )\n",
       "  )\n",
       "  (22): BatchNorm1d(64, eps=1e-05, momentum=0.1, affine=True, track_running_stats=True)\n",
       "  (23): QuantReLU(\n",
       "    (input_quant): ActQuantProxyFromInjector(\n",
       "      (_zero_hw_sentinel): StatelessBuffer()\n",
       "      (export_handler): None\n",
       "    )\n",
       "    (act_quant): ActQuantProxyFromInjector(\n",
       "      (_zero_hw_sentinel): StatelessBuffer()\n",
       "      (fused_activation_quant_proxy): FusedActivationQuantProxy(\n",
       "        (activation_impl): ReLU()\n",
       "        (tensor_quant): RescalingIntQuant(\n",
       "          (int_quant): IntQuant(\n",
       "            (float_to_int_impl): RoundSte()\n",
       "            (tensor_clamp_impl): TensorClamp()\n",
       "            (delay_wrapper): DelayWrapper(\n",
       "              (delay_impl): _NoDelay()\n",
       "            )\n",
       "          )\n",
       "          (scaling_impl): ParameterFromRuntimeStatsScaling(\n",
       "            (stats_input_view_shape_impl): OverTensorView()\n",
       "            (stats): _Stats(\n",
       "              (stats_impl): AbsPercentile()\n",
       "            )\n",
       "            (restrict_scaling): _RestrictValue(\n",
       "              (restrict_value_impl): FloatRestrictValue()\n",
       "            )\n",
       "            (clamp_scaling): _ClampValue(\n",
       "              (clamp_min_ste): ScalarClampMinSte()\n",
       "            )\n",
       "            (restrict_inplace_preprocess): Identity()\n",
       "            (restrict_preprocess): Identity()\n",
       "          )\n",
       "          (int_scaling_impl): IntScaling()\n",
       "          (zero_point_impl): ZeroZeroPoint(\n",
       "            (zero_point): StatelessBuffer()\n",
       "          )\n",
       "          (msb_clamp_bit_width_impl): BitWidthConst(\n",
       "            (bit_width): StatelessBuffer()\n",
       "          )\n",
       "        )\n",
       "      )\n",
       "      (export_handler): None\n",
       "    )\n",
       "  )\n",
       "  (24): MaxPool1d(kernel_size=2, stride=2, padding=0, dilation=1, ceil_mode=False)\n",
       "  (25): QuantConv1d(\n",
       "    64, 64, kernel_size=(3,), stride=(1,), padding=(1,), bias=False\n",
       "    (input_quant): ActQuantProxyFromInjector(\n",
       "      (_zero_hw_sentinel): StatelessBuffer()\n",
       "      (export_handler): None\n",
       "    )\n",
       "    (output_quant): ActQuantProxyFromInjector(\n",
       "      (_zero_hw_sentinel): StatelessBuffer()\n",
       "      (export_handler): None\n",
       "    )\n",
       "    (weight_quant): WeightQuantProxyFromInjector(\n",
       "      (_zero_hw_sentinel): StatelessBuffer()\n",
       "      (tensor_quant): RescalingIntQuant(\n",
       "        (int_quant): IntQuant(\n",
       "          (float_to_int_impl): RoundSte()\n",
       "          (tensor_clamp_impl): TensorClampSte()\n",
       "          (delay_wrapper): DelayWrapper(\n",
       "            (delay_impl): _NoDelay()\n",
       "          )\n",
       "        )\n",
       "        (scaling_impl): StatsFromParameterScaling(\n",
       "          (parameter_list_stats): _ParameterListStats(\n",
       "            (first_tracked_param): _ViewParameterWrapper(\n",
       "              (view_shape_impl): OverTensorView()\n",
       "            )\n",
       "            (stats): _Stats(\n",
       "              (stats_impl): AbsMax()\n",
       "            )\n",
       "          )\n",
       "          (stats_scaling_impl): _StatsScaling(\n",
       "            (affine_rescaling): Identity()\n",
       "            (restrict_clamp_scaling): _RestrictClampValue(\n",
       "              (clamp_min_ste): ScalarClampMinSte()\n",
       "              (restrict_value_impl): FloatRestrictValue()\n",
       "            )\n",
       "            (restrict_scaling_pre): Identity()\n",
       "          )\n",
       "        )\n",
       "        (int_scaling_impl): IntScaling()\n",
       "        (zero_point_impl): ZeroZeroPoint(\n",
       "          (zero_point): StatelessBuffer()\n",
       "        )\n",
       "        (msb_clamp_bit_width_impl): BitWidthConst(\n",
       "          (bit_width): StatelessBuffer()\n",
       "        )\n",
       "      )\n",
       "      (export_handler): None\n",
       "    )\n",
       "    (bias_quant): BiasQuantProxyFromInjector(\n",
       "      (_zero_hw_sentinel): StatelessBuffer()\n",
       "      (export_handler): None\n",
       "    )\n",
       "  )\n",
       "  (26): BatchNorm1d(64, eps=1e-05, momentum=0.1, affine=True, track_running_stats=True)\n",
       "  (27): QuantReLU(\n",
       "    (input_quant): ActQuantProxyFromInjector(\n",
       "      (_zero_hw_sentinel): StatelessBuffer()\n",
       "      (export_handler): None\n",
       "    )\n",
       "    (act_quant): ActQuantProxyFromInjector(\n",
       "      (_zero_hw_sentinel): StatelessBuffer()\n",
       "      (fused_activation_quant_proxy): FusedActivationQuantProxy(\n",
       "        (activation_impl): ReLU()\n",
       "        (tensor_quant): RescalingIntQuant(\n",
       "          (int_quant): IntQuant(\n",
       "            (float_to_int_impl): RoundSte()\n",
       "            (tensor_clamp_impl): TensorClamp()\n",
       "            (delay_wrapper): DelayWrapper(\n",
       "              (delay_impl): _NoDelay()\n",
       "            )\n",
       "          )\n",
       "          (scaling_impl): ParameterFromRuntimeStatsScaling(\n",
       "            (stats_input_view_shape_impl): OverTensorView()\n",
       "            (stats): _Stats(\n",
       "              (stats_impl): AbsPercentile()\n",
       "            )\n",
       "            (restrict_scaling): _RestrictValue(\n",
       "              (restrict_value_impl): FloatRestrictValue()\n",
       "            )\n",
       "            (clamp_scaling): _ClampValue(\n",
       "              (clamp_min_ste): ScalarClampMinSte()\n",
       "            )\n",
       "            (restrict_inplace_preprocess): Identity()\n",
       "            (restrict_preprocess): Identity()\n",
       "          )\n",
       "          (int_scaling_impl): IntScaling()\n",
       "          (zero_point_impl): ZeroZeroPoint(\n",
       "            (zero_point): StatelessBuffer()\n",
       "          )\n",
       "          (msb_clamp_bit_width_impl): BitWidthConst(\n",
       "            (bit_width): StatelessBuffer()\n",
       "          )\n",
       "        )\n",
       "      )\n",
       "      (export_handler): None\n",
       "    )\n",
       "  )\n",
       "  (28): MaxPool1d(kernel_size=2, stride=2, padding=0, dilation=1, ceil_mode=False)\n",
       "  (29): Flatten(start_dim=1, end_dim=-1)\n",
       "  (30): QuantLinear(\n",
       "    in_features=512, out_features=128, bias=False\n",
       "    (input_quant): ActQuantProxyFromInjector(\n",
       "      (_zero_hw_sentinel): StatelessBuffer()\n",
       "      (export_handler): None\n",
       "    )\n",
       "    (output_quant): ActQuantProxyFromInjector(\n",
       "      (_zero_hw_sentinel): StatelessBuffer()\n",
       "      (export_handler): None\n",
       "    )\n",
       "    (weight_quant): WeightQuantProxyFromInjector(\n",
       "      (_zero_hw_sentinel): StatelessBuffer()\n",
       "      (tensor_quant): RescalingIntQuant(\n",
       "        (int_quant): IntQuant(\n",
       "          (float_to_int_impl): RoundSte()\n",
       "          (tensor_clamp_impl): TensorClampSte()\n",
       "          (delay_wrapper): DelayWrapper(\n",
       "            (delay_impl): _NoDelay()\n",
       "          )\n",
       "        )\n",
       "        (scaling_impl): StatsFromParameterScaling(\n",
       "          (parameter_list_stats): _ParameterListStats(\n",
       "            (first_tracked_param): _ViewParameterWrapper(\n",
       "              (view_shape_impl): OverTensorView()\n",
       "            )\n",
       "            (stats): _Stats(\n",
       "              (stats_impl): AbsMax()\n",
       "            )\n",
       "          )\n",
       "          (stats_scaling_impl): _StatsScaling(\n",
       "            (affine_rescaling): Identity()\n",
       "            (restrict_clamp_scaling): _RestrictClampValue(\n",
       "              (clamp_min_ste): ScalarClampMinSte()\n",
       "              (restrict_value_impl): FloatRestrictValue()\n",
       "            )\n",
       "            (restrict_scaling_pre): Identity()\n",
       "          )\n",
       "        )\n",
       "        (int_scaling_impl): IntScaling()\n",
       "        (zero_point_impl): ZeroZeroPoint(\n",
       "          (zero_point): StatelessBuffer()\n",
       "        )\n",
       "        (msb_clamp_bit_width_impl): BitWidthConst(\n",
       "          (bit_width): StatelessBuffer()\n",
       "        )\n",
       "      )\n",
       "      (export_handler): None\n",
       "    )\n",
       "    (bias_quant): BiasQuantProxyFromInjector(\n",
       "      (_zero_hw_sentinel): StatelessBuffer()\n",
       "      (export_handler): None\n",
       "    )\n",
       "  )\n",
       "  (31): BatchNorm1d(128, eps=1e-05, momentum=0.1, affine=True, track_running_stats=True)\n",
       "  (32): QuantReLU(\n",
       "    (input_quant): ActQuantProxyFromInjector(\n",
       "      (_zero_hw_sentinel): StatelessBuffer()\n",
       "      (export_handler): None\n",
       "    )\n",
       "    (act_quant): ActQuantProxyFromInjector(\n",
       "      (_zero_hw_sentinel): StatelessBuffer()\n",
       "      (fused_activation_quant_proxy): FusedActivationQuantProxy(\n",
       "        (activation_impl): ReLU()\n",
       "        (tensor_quant): RescalingIntQuant(\n",
       "          (int_quant): IntQuant(\n",
       "            (float_to_int_impl): RoundSte()\n",
       "            (tensor_clamp_impl): TensorClamp()\n",
       "            (delay_wrapper): DelayWrapper(\n",
       "              (delay_impl): _NoDelay()\n",
       "            )\n",
       "          )\n",
       "          (scaling_impl): ParameterFromRuntimeStatsScaling(\n",
       "            (stats_input_view_shape_impl): OverTensorView()\n",
       "            (stats): _Stats(\n",
       "              (stats_impl): AbsPercentile()\n",
       "            )\n",
       "            (restrict_scaling): _RestrictValue(\n",
       "              (restrict_value_impl): FloatRestrictValue()\n",
       "            )\n",
       "            (clamp_scaling): _ClampValue(\n",
       "              (clamp_min_ste): ScalarClampMinSte()\n",
       "            )\n",
       "            (restrict_inplace_preprocess): Identity()\n",
       "            (restrict_preprocess): Identity()\n",
       "          )\n",
       "          (int_scaling_impl): IntScaling()\n",
       "          (zero_point_impl): ZeroZeroPoint(\n",
       "            (zero_point): StatelessBuffer()\n",
       "          )\n",
       "          (msb_clamp_bit_width_impl): BitWidthConst(\n",
       "            (bit_width): StatelessBuffer()\n",
       "          )\n",
       "        )\n",
       "      )\n",
       "      (export_handler): None\n",
       "    )\n",
       "  )\n",
       "  (33): QuantLinear(\n",
       "    in_features=128, out_features=128, bias=False\n",
       "    (input_quant): ActQuantProxyFromInjector(\n",
       "      (_zero_hw_sentinel): StatelessBuffer()\n",
       "      (export_handler): None\n",
       "    )\n",
       "    (output_quant): ActQuantProxyFromInjector(\n",
       "      (_zero_hw_sentinel): StatelessBuffer()\n",
       "      (export_handler): None\n",
       "    )\n",
       "    (weight_quant): WeightQuantProxyFromInjector(\n",
       "      (_zero_hw_sentinel): StatelessBuffer()\n",
       "      (tensor_quant): RescalingIntQuant(\n",
       "        (int_quant): IntQuant(\n",
       "          (float_to_int_impl): RoundSte()\n",
       "          (tensor_clamp_impl): TensorClampSte()\n",
       "          (delay_wrapper): DelayWrapper(\n",
       "            (delay_impl): _NoDelay()\n",
       "          )\n",
       "        )\n",
       "        (scaling_impl): StatsFromParameterScaling(\n",
       "          (parameter_list_stats): _ParameterListStats(\n",
       "            (first_tracked_param): _ViewParameterWrapper(\n",
       "              (view_shape_impl): OverTensorView()\n",
       "            )\n",
       "            (stats): _Stats(\n",
       "              (stats_impl): AbsMax()\n",
       "            )\n",
       "          )\n",
       "          (stats_scaling_impl): _StatsScaling(\n",
       "            (affine_rescaling): Identity()\n",
       "            (restrict_clamp_scaling): _RestrictClampValue(\n",
       "              (clamp_min_ste): ScalarClampMinSte()\n",
       "              (restrict_value_impl): FloatRestrictValue()\n",
       "            )\n",
       "            (restrict_scaling_pre): Identity()\n",
       "          )\n",
       "        )\n",
       "        (int_scaling_impl): IntScaling()\n",
       "        (zero_point_impl): ZeroZeroPoint(\n",
       "          (zero_point): StatelessBuffer()\n",
       "        )\n",
       "        (msb_clamp_bit_width_impl): BitWidthConst(\n",
       "          (bit_width): StatelessBuffer()\n",
       "        )\n",
       "      )\n",
       "      (export_handler): None\n",
       "    )\n",
       "    (bias_quant): BiasQuantProxyFromInjector(\n",
       "      (_zero_hw_sentinel): StatelessBuffer()\n",
       "      (export_handler): None\n",
       "    )\n",
       "  )\n",
       "  (34): BatchNorm1d(128, eps=1e-05, momentum=0.1, affine=True, track_running_stats=True)\n",
       "  (35): QuantReLU(\n",
       "    (input_quant): ActQuantProxyFromInjector(\n",
       "      (_zero_hw_sentinel): StatelessBuffer()\n",
       "      (export_handler): None\n",
       "    )\n",
       "    (act_quant): ActQuantProxyFromInjector(\n",
       "      (_zero_hw_sentinel): StatelessBuffer()\n",
       "      (fused_activation_quant_proxy): FusedActivationQuantProxy(\n",
       "        (activation_impl): ReLU()\n",
       "        (tensor_quant): RescalingIntQuant(\n",
       "          (int_quant): IntQuant(\n",
       "            (float_to_int_impl): RoundSte()\n",
       "            (tensor_clamp_impl): TensorClamp()\n",
       "            (delay_wrapper): DelayWrapper(\n",
       "              (delay_impl): _NoDelay()\n",
       "            )\n",
       "          )\n",
       "          (scaling_impl): ParameterFromRuntimeStatsScaling(\n",
       "            (stats_input_view_shape_impl): OverTensorView()\n",
       "            (stats): _Stats(\n",
       "              (stats_impl): AbsPercentile()\n",
       "            )\n",
       "            (restrict_scaling): _RestrictValue(\n",
       "              (restrict_value_impl): FloatRestrictValue()\n",
       "            )\n",
       "            (clamp_scaling): _ClampValue(\n",
       "              (clamp_min_ste): ScalarClampMinSte()\n",
       "            )\n",
       "            (restrict_inplace_preprocess): Identity()\n",
       "            (restrict_preprocess): Identity()\n",
       "          )\n",
       "          (int_scaling_impl): IntScaling()\n",
       "          (zero_point_impl): ZeroZeroPoint(\n",
       "            (zero_point): StatelessBuffer()\n",
       "          )\n",
       "          (msb_clamp_bit_width_impl): BitWidthConst(\n",
       "            (bit_width): StatelessBuffer()\n",
       "          )\n",
       "        )\n",
       "      )\n",
       "      (export_handler): None\n",
       "    )\n",
       "  )\n",
       "  (36): QuantLinear(\n",
       "    in_features=128, out_features=27, bias=True\n",
       "    (input_quant): ActQuantProxyFromInjector(\n",
       "      (_zero_hw_sentinel): StatelessBuffer()\n",
       "      (export_handler): None\n",
       "    )\n",
       "    (output_quant): ActQuantProxyFromInjector(\n",
       "      (_zero_hw_sentinel): StatelessBuffer()\n",
       "      (export_handler): None\n",
       "    )\n",
       "    (weight_quant): WeightQuantProxyFromInjector(\n",
       "      (_zero_hw_sentinel): StatelessBuffer()\n",
       "      (tensor_quant): RescalingIntQuant(\n",
       "        (int_quant): IntQuant(\n",
       "          (float_to_int_impl): RoundSte()\n",
       "          (tensor_clamp_impl): TensorClampSte()\n",
       "          (delay_wrapper): DelayWrapper(\n",
       "            (delay_impl): _NoDelay()\n",
       "          )\n",
       "        )\n",
       "        (scaling_impl): StatsFromParameterScaling(\n",
       "          (parameter_list_stats): _ParameterListStats(\n",
       "            (first_tracked_param): _ViewParameterWrapper(\n",
       "              (view_shape_impl): OverTensorView()\n",
       "            )\n",
       "            (stats): _Stats(\n",
       "              (stats_impl): AbsMax()\n",
       "            )\n",
       "          )\n",
       "          (stats_scaling_impl): _StatsScaling(\n",
       "            (affine_rescaling): Identity()\n",
       "            (restrict_clamp_scaling): _RestrictClampValue(\n",
       "              (clamp_min_ste): ScalarClampMinSte()\n",
       "              (restrict_value_impl): FloatRestrictValue()\n",
       "            )\n",
       "            (restrict_scaling_pre): Identity()\n",
       "          )\n",
       "        )\n",
       "        (int_scaling_impl): IntScaling()\n",
       "        (zero_point_impl): ZeroZeroPoint(\n",
       "          (zero_point): StatelessBuffer()\n",
       "        )\n",
       "        (msb_clamp_bit_width_impl): BitWidthConst(\n",
       "          (bit_width): StatelessBuffer()\n",
       "        )\n",
       "      )\n",
       "      (export_handler): None\n",
       "    )\n",
       "    (bias_quant): BiasQuantProxyFromInjector(\n",
       "      (_zero_hw_sentinel): StatelessBuffer()\n",
       "      (tensor_quant): PrescaledRestrictIntQuant(\n",
       "        (int_quant): IntQuant(\n",
       "          (float_to_int_impl): RoundSte()\n",
       "          (tensor_clamp_impl): TensorClamp()\n",
       "          (delay_wrapper): DelayWrapper(\n",
       "            (delay_impl): _NoDelay()\n",
       "          )\n",
       "        )\n",
       "        (msb_clamp_bit_width_impl): BitWidthConst(\n",
       "          (bit_width): StatelessBuffer()\n",
       "        )\n",
       "        (zero_point): StatelessBuffer()\n",
       "      )\n",
       "      (export_handler): None\n",
       "    )\n",
       "  )\n",
       ")"
      ]
     },
     "execution_count": 17,
     "metadata": {},
     "output_type": "execute_result"
    }
   ],
   "source": [
    "#Load the model back again, or you can change the file to load a different model\n",
    "#Redefining the model class because we only save the parameters, not the structure of the model\n",
    "load_path=chpt_path #Change this to a path of a different model\n",
    "\n",
    "#load_path = checkpoint_path = Path(\"brevitas_diff_weights/27ml_rf_brevitas.pth\")\n",
    "\n",
    "model=model_class #Reinitialize the class of the model, so we can fill the parameters in\n",
    "model.load_state_dict(torch.load(load_path))\n",
    "model.to('cuda')"
   ]
  },
  {
   "cell_type": "markdown",
   "metadata": {},
   "source": [
    "# Evaluate Accuracy"
   ]
  },
  {
   "cell_type": "code",
   "execution_count": 18,
   "metadata": {},
   "outputs": [],
   "source": [
    "# Set up a fresh test data loader\n",
    "batch_size = 1024\n",
    "dataset = radioml_21_dataset(dataset_path)\n",
    "data_loader_test = DataLoader(dataset, batch_size=batch_size, sampler=dataset.test_sampler)"
   ]
  },
  {
   "cell_type": "code",
   "execution_count": 19,
   "metadata": {},
   "outputs": [
    {
     "data": {
      "application/vnd.jupyter.widget-view+json": {
       "model_id": "5e6bfda8f44e499f839213161b5d3698",
       "version_major": 2,
       "version_minor": 0
      },
      "text/plain": [
       "Batches:   0%|          | 0/282 [00:00<?, ?it/s]"
      ]
     },
     "metadata": {},
     "output_type": "display_data"
    }
   ],
   "source": [
    "# Run inference on validation data\n",
    "y_exp = np.empty((0))\n",
    "y_snr = np.empty((0))\n",
    "y_pred = np.empty((0,len(dataset.mod_classes)))\n",
    "model.eval()\n",
    "with torch.no_grad():\n",
    "    for data in tqdm(data_loader_test, desc=\"Batches\"):\n",
    "        inputs, target, snr = data\n",
    "        inputs = inputs.to(gpu).float()\n",
    "        output = model(inputs)\n",
    "        y_pred = np.concatenate((y_pred,output.cpu()))\n",
    "        y_exp = np.concatenate((y_exp,target))\n",
    "        y_snr = np.concatenate((y_snr,snr))"
   ]
  },
  {
   "cell_type": "markdown",
   "metadata": {},
   "source": [
    "## Confusion Matrix across all SNRs"
   ]
  },
  {
   "cell_type": "code",
   "execution_count": 20,
   "metadata": {},
   "outputs": [
    {
     "name": "stdout",
     "output_type": "stream",
     "text": [
      "Overall Accuracy across all SNRs: 0.590157\n"
     ]
    }
   ],
   "source": [
    "# Plot overall confusion matrix\n",
    "def plot_confusion_matrix(cm, title='Confusion matrix', cmap=plt.cm.Blues, labels=[]):\n",
    "    plt.imshow(cm, interpolation='nearest', cmap=cmap)\n",
    "    plt.title(title)\n",
    "    plt.colorbar()\n",
    "    tick_marks = np.arange(len(labels))\n",
    "    plt.xticks(tick_marks, labels, rotation=90)\n",
    "    plt.yticks(tick_marks, labels)\n",
    "    plt.tight_layout()\n",
    "    plt.ylabel('True label')\n",
    "    plt.xlabel('Predicted label')\n",
    "\n",
    "conf = np.zeros([len(dataset.mod_classes),len(dataset.mod_classes)])\n",
    "confnorm = np.zeros([len(dataset.mod_classes),len(dataset.mod_classes)])\n",
    "for i in range(len(y_exp)):\n",
    "    j = int(y_exp[i])\n",
    "    k = int(np.argmax(y_pred[i,:]))\n",
    "    conf[j,k] = conf[j,k] + 1\n",
    "for i in range(0,len(dataset.mod_classes)):\n",
    "    confnorm[i,:] = conf[i,:] / np.sum(conf[i,:])\n",
    "\n",
    "plt.figure(figsize=(12,8))\n",
    "plot_confusion_matrix(confnorm, labels=dataset.mod_classes)\n",
    "\n",
    "cor = np.sum(np.diag(conf))\n",
    "ncor = np.sum(conf) - cor\n",
    "print(\"Overall Accuracy across all SNRs: %f\"%(cor / (cor+ncor)))"
   ]
  },
  {
   "cell_type": "markdown",
   "metadata": {},
   "source": [
    "## Confusion Matrix at 4 specific SNRs\n",
    "Notice how the accuracy is very low at lower SNR and the accuracy is very high at higher SNR"
   ]
  },
  {
   "cell_type": "code",
   "execution_count": 21,
   "metadata": {},
   "outputs": [
    {
     "name": "stderr",
     "output_type": "stream",
     "text": [
      "/tmp/ipykernel_142/3267716818.py:22: MatplotlibDeprecationWarning: Auto-removal of overlapping axes is deprecated since 3.6 and will be removed two minor releases later; explicitly call ax.remove() as needed.\n",
      "  plt.subplot(221+plot)\n"
     ]
    }
   ],
   "source": [
    "# Plot confusion matrices at 4 different SNRs\n",
    "snr_to_plot = [-20,-4,+4,+30]\n",
    "plt.figure(figsize=(16,10))\n",
    "acc = []\n",
    "for snr in dataset.snr_classes:\n",
    "    # extract classes @ SNR\n",
    "    indices_snr = (y_snr == snr).nonzero()\n",
    "    y_exp_i = y_exp[indices_snr]\n",
    "    y_pred_i = y_pred[indices_snr]\n",
    " \n",
    "    conf = np.zeros([len(dataset.mod_classes),len(dataset.mod_classes)])\n",
    "    confnorm = np.zeros([len(dataset.mod_classes),len(dataset.mod_classes)])\n",
    "    for i in range(len(y_exp_i)):\n",
    "        j = int(y_exp_i[i])\n",
    "        k = int(np.argmax(y_pred_i[i,:]))\n",
    "        conf[j,k] = conf[j,k] + 1\n",
    "    for i in range(0,len(dataset.mod_classes)):\n",
    "        confnorm[i,:] = conf[i,:] / np.sum(conf[i,:])\n",
    " \n",
    "    if snr in snr_to_plot:\n",
    "        plot, = np.where(snr_to_plot == snr)[0]\n",
    "        plt.subplot(221+plot)\n",
    "        plot_confusion_matrix(confnorm, labels=dataset.mod_classes, title=\"Confusion Matrix @ %d dB\"%(snr))\n",
    " \n",
    "    cor = np.sum(np.diag(conf))\n",
    "    ncor = np.sum(conf) - cor\n",
    "    acc.append(cor/(cor+ncor))"
   ]
  },
  {
   "cell_type": "markdown",
   "metadata": {},
   "source": [
    "## Accuracy over SNRs"
   ]
  },
  {
   "cell_type": "code",
   "execution_count": 22,
   "metadata": {},
   "outputs": [
    {
     "name": "stdout",
     "output_type": "stream",
     "text": [
      "Accuracy @ highest SNR (+30 dB): 0.906233\n",
      "Accuracy overall: 0.590157\n"
     ]
    },
    {
     "data": {
      "image/png": "[encoded data removed]",
      "text/plain": [
       "<Figure size 1000x600 with 1 Axes>"
      ]
     },
     "metadata": {},
     "output_type": "display_data"
    }
   ],
   "source": [
    "# Plot accuracy over SNR\n",
    "plt.figure(figsize=(10,6))\n",
    "plt.plot(dataset.snr_classes, acc, marker='o')\n",
    "plt.xlabel(\"SNR [dB]\")\n",
    "plt.xlim([-20, 30])\n",
    "plt.ylabel(\"Classification Accuracy\")\n",
    "plt.yticks(np.arange(0, 1.1, 0.1))\n",
    "plt.title(\"Classification Accuracy over SNR\")\n",
    "plt.grid()\n",
    "plt.title(\"Classification Accuracy over SNR\");\n",
    "\n",
    "print(\"Accuracy @ highest SNR (+30 dB): %f\"%(acc[-1]))\n",
    "print(\"Accuracy overall: %f\"%(np.mean(acc)))"
   ]
  },
  {
   "cell_type": "markdown",
   "metadata": {},
   "source": [
    "## Breakdown of the accuracy of each modulations over SNRs"
   ]
  },
  {
   "cell_type": "code",
   "execution_count": 23,
   "metadata": {},
   "outputs": [
    {
     "data": {
      "image/png": "[encoded data removed]",
      "text/plain": [
       "<Figure size 1200x800 with 1 Axes>"
      ]
     },
     "metadata": {},
     "output_type": "display_data"
    }
   ],
   "source": [
    "# Plot accuracy per modulation\n",
    "accs = []\n",
    "for mod in range((dataset.num_classes)):\n",
    "    accs.append([])\n",
    "    for snr in dataset.snr_classes:\n",
    "        indices = ((y_exp == mod) & (y_snr == snr)).nonzero()\n",
    "        y_exp_i = y_exp[indices]\n",
    "        y_pred_i = y_pred[indices]\n",
    "        cor = np.count_nonzero(y_exp_i == np.argmax(y_pred_i, axis=1))\n",
    "        accs[mod].append(cor/len(y_exp_i))\n",
    "        \n",
    "# Plot accuracy-over-SNR curve\n",
    "plt.figure(figsize=(12,8))\n",
    "for mod in range(dataset.num_classes):\n",
    "    if accs[mod][-1] < 0.95 or accs[mod][0] > 0.1:\n",
    "        color = None\n",
    "    else:\n",
    "        color = \"black\"\n",
    "    plt.plot(dataset.snr_classes, accs[mod], label=str(mod) + \": \" + dataset.mod_classes[mod], color=color)\n",
    "plt.xlabel(\"SNR [dB]\")\n",
    "plt.xlim([-20, 30])\n",
    "plt.ylabel(\"Classification Accuracy\")\n",
    "plt.yticks(np.arange(0, 1.1, 0.1))\n",
    "plt.title(\"Accuracy breakdown\")\n",
    "plt.grid()\n",
    "plt.legend();"
   ]
  },
  {
   "cell_type": "markdown",
   "metadata": {},
   "source": [
    "## Export model as QONNX (Quantized ONNX) file\n",
    "\n",
    "QONNX is just a extended version of ONNX file. \n",
    "\n",
    "QONNX file is still saved under the extension `.onnx`, but their parameters are quantized\n",
    "\n",
    "To standardize the project, we will call:\n",
    "- QONNX Model exported from Brevitas: `_brevitas.onnx`\n",
    "- QONNX Model after network surgery: `_finn.onnx`\n",
    "\n",
    "Further information about FINN-ONNX and network surgery is explained in the `build_transformed_model.ipynb`"
   ]
  },
  {
   "cell_type": "markdown",
   "metadata": {},
   "source": [
    "### Clean up the model so that FINN can regconize nodes\n",
    "\n",
    "Ensure the model is cleaned up before converting to FINN ONNX, so that the nodes in the model are correctly labeled. Otherwise, when we convert to FINN-ONNX, the converter may not be able to regconize the nodes.\n",
    "\n",
    "Source code for cleanup(): https://github.com/fastmachinelearning/qonnx/blob/main/src/qonnx/util/cleanup.py"
   ]
  },
  {
   "cell_type": "code",
   "execution_count": 25,
   "metadata": {},
   "outputs": [
    {
     "name": "stdout",
     "output_type": "stream",
     "text": [
      "model is saved in 27ml_rf/models/radio_27ml_brevitas.onnx\n"
     ]
    }
   ],
   "source": [
    "from qonnx.util.cleanup import cleanup as qonnx_cleanup\n",
    "model_file_name=Path('27ml_rf/model_brevitas.pth')\n",
    "from brevitas.export import export_qonnx\n",
    "from qonnx.util.cleanup import cleanup as qonnx_cleanup\n",
    "\n",
    "model.eval()\n",
    "build_dir=\"27ml_rf/models\" #Directory to save model\n",
    "\n",
    "#Ensuring path exist, otherwise create an empty directory\n",
    "Path(build_dir).mkdir(exist_ok=True)\n",
    "export_path=f\"{build_dir}/radio_27ml_brevitas.onnx\" #Full name of the path of the model with the tail _export.onnx\n",
    "export_qonnx(model.to('cuda'), torch.randn(1, 2, 1024).to('cuda'), export_path=export_path);\n",
    "\n",
    "qonnx_cleanup(export_path, out_file=export_path)\n",
    "print(f'model is saved in {export_path}')"
   ]
  }
 ],
 "metadata": {
  "kernelspec": {
   "display_name": "Python 3 (ipykernel)",
   "language": "python",
   "name": "python3"
  },
  "language_info": {
   "codemirror_mode": {
    "name": "ipython",
    "version": 3
   },
   "file_extension": ".py",
   "mimetype": "text/x-python",
   "name": "python",
   "nbconvert_exporter": "python",
   "pygments_lexer": "ipython3",
   "version": "3.10.12"
  }
 },
 "nbformat": 4,
 "nbformat_minor": 4
}
