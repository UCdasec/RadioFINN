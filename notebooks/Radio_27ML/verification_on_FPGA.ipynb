{
 "cells": [
  {
   "cell_type": "markdown",
   "metadata": {},
   "source": [
    "# Initialize the accelerator\n",
    "### This file is meant to be run on the FPGA"
   ]
  },
  {
   "cell_type": "markdown",
   "metadata": {},
   "source": [
    "### Remember to install the following dependencies:"
   ]
  },
  {
   "cell_type": "code",
   "execution_count": 1,
   "metadata": {},
   "outputs": [],
   "source": [
    "# ! apt-get update -y\n",
    "# ! apt-get install libhdf5-dev -y\n",
    "# ! pip3 install versioned-hdf5"
   ]
  },
  {
   "cell_type": "code",
   "execution_count": 1,
   "metadata": {},
   "outputs": [
    {
     "name": "stdout",
     "output_type": "stream",
     "text": [
      "['_radioml_io_shape_dict', 'vgg10_w4a4_radioml']\n"
     ]
    }
   ],
   "source": [
    "!export XILINX_XRT=/usr\n",
    "\n",
    "from finn_examples import models\n",
    "print(list(filter(lambda x: \"radioml\" in x, dir(models)))) "
   ]
  },
  {
   "cell_type": "code",
   "execution_count": 2,
   "metadata": {},
   "outputs": [
    {
     "data": {
      "application/javascript": "\ntry {\nrequire(['notebook/js/codecell'], function(codecell) {\n  codecell.CodeCell.options_default.highlight_modes[\n      'magic_text/x-csrc'] = {'reg':[/^%%microblaze/]};\n  Jupyter.notebook.events.one('kernel_ready.Kernel', function(){\n      Jupyter.notebook.get_cells().map(function(cell){\n          if (cell.cell_type == 'code'){ cell.auto_highlight(); } }) ;\n  });\n});\n} catch (e) {};\n"
     },
     "metadata": {},
     "output_type": "display_data"
    },
    {
     "data": {
      "application/javascript": "\ntry {\nrequire(['notebook/js/codecell'], function(codecell) {\n  codecell.CodeCell.options_default.highlight_modes[\n      'magic_text/x-csrc'] = {'reg':[/^%%pybind11/]};\n  Jupyter.notebook.events.one('kernel_ready.Kernel', function(){\n      Jupyter.notebook.get_cells().map(function(cell){\n          if (cell.cell_type == 'code'){ cell.auto_highlight(); } }) ;\n  });\n});\n} catch (e) {};\n"
     },
     "metadata": {},
     "output_type": "display_data"
    }
   ],
   "source": [
    "# Note: the RadioML example is only available on the ZCU104 at the moment\n",
    "import pynq\n",
    "target_platform=\"ZCU104\"\n",
    "# accel = models.vgg10_w4a4_radioml()\n",
    "\n",
    "from driver import io_shape_dict\n",
    "from driver_base import FINNExampleOverlay\n",
    "\n",
    "accel=  FINNExampleOverlay(\n",
    "        bitfile_name=\"finn-accel.bit\",\n",
    "        platform=\"zynq-iodma\",\n",
    "        io_shape_dict=io_shape_dict,\n",
    "        batch_size=1,\n",
    "        runtime_weight_dir=\"runtime_weights/\",\n",
    "        fclk_mhz=250.0\n",
    "    )   "
   ]
  },
  {
   "cell_type": "code",
   "execution_count": 3,
   "metadata": {},
   "outputs": [
    {
     "name": "stdout",
     "output_type": "stream",
     "text": [
      "Expected input shape and datatype: (1, 1024, 1, 2) INT8\n",
      "Expected output shape and datatype: (1, 1) UINT8\n"
     ]
    }
   ],
   "source": [
    "print(\"Expected input shape and datatype: %s %s\" % (str(accel.ishape_normal()), str(accel.idt())))\n",
    "print(\"Expected output shape and datatype: %s %s\" % (str(accel.oshape_normal()), str(accel.odt())))"
   ]
  },
  {
   "cell_type": "markdown",
   "metadata": {},
   "source": [
    "# Load RadioML 2021 dataset"
   ]
  },
  {
   "cell_type": "markdown",
   "metadata": {},
   "source": [
    "Please note that you will have to manually download the RadioML 2018 dataset and set the `dataset_dir` variable to point to its path."
   ]
  },
  {
   "cell_type": "code",
   "execution_count": null,
   "metadata": {},
   "outputs": [],
   "source": [
    "import numpy as np\n",
    "import math\n",
    "import pickle\n",
    "import os\n",
    "import h5py\n",
    "\n",
    "#Change this to your dataset directory\n",
    "os.environ[\"RADIOML_PATH\"]=\"/dataset/\" \n",
    "dataset_dir = os.environ[\"RADIOML_PATH\"]\n",
    "print(dataset_dir)"
   ]
  },
  {
   "cell_type": "code",
   "execution_count": 20,
   "metadata": {},
   "outputs": [],
   "source": [
    "h5_file = h5py.File(dataset_dir + \"/RADIOML_2021_07_INT8.hdf5\",'r')\n",
    "data_h5 = h5_file['X']\n",
    "label_mod = np.argmax(h5_file['Y'], axis=1) # comes in one-hot encoding\n",
    "label_snr = h5_file['Z'][:,0]\n",
    "\n",
    "# assemble list of test set indices\n",
    "# do not pre-load large dataset into memory\n",
    "np.random.seed(2021)\n",
    "test_indices = []\n",
    "for mod in range(0, 27): #all modulations (0 to 26)\n",
    "    for snr_idx in range(0, 26): #all SNRs (0 to 25 = -20dB to +30dB)\n",
    "        start_idx = 26*4096*mod + 4096*snr_idx\n",
    "        indices_subclass = list(range(start_idx, start_idx+4096))\n",
    "\n",
    "        split = int(np.ceil(0.1 * 4096)) #90%/10% split\n",
    "        np.random.shuffle(indices_subclass)\n",
    "        train_indices_subclass, val_indices_subclass = indices_subclass[split:], indices_subclass[:split]\n",
    "\n",
    "        #Lower bound of SNR included in test set.\n",
    "        # >=0 means all SNRs,\n",
    "        # >=25 means only 30db.\n",
    "        #Note that SNRS is from -20 to +30 with steps of 2\n",
    "        if snr_idx >= 25: #select which SNRs to test on \n",
    "            test_indices.extend(val_indices_subclass)\n",
    "\n",
    "test_indices = sorted(test_indices)\n",
    "\n",
    "# note: labels given in the \"classes.txt\" file are not in the correct order (https://github.com/radioML/dataset/issues/25)\n",
    "mod_classes = [\n",
    "                \"OOK\",\n",
    "                \"4ASK\",\n",
    "                \"8ASK\",\n",
    "                \"BPSK\",\n",
    "                \"QPSK\",\n",
    "                \"8PSK\",\n",
    "                \"16PSK\",\n",
    "                \"32PSK\",\n",
    "                \"16APSK\",\n",
    "                \"32APSK\",\n",
    "                \"64APSK\",\n",
    "                \"128APSK\",\n",
    "                \"16QAM\",\n",
    "                \"32QAM\",\n",
    "                \"64QAM\",\n",
    "                \"128QAM\",\n",
    "                \"256QAM\",\n",
    "                \"AM-SSB-WC\",\n",
    "                \"AM-SSB-SC\",\n",
    "                \"AM-DSB-WC\",\n",
    "                \"AM-DSB-SC\",\n",
    "                \"FM\",\n",
    "                \"GMSK\",\n",
    "                \"OQPSK\",\n",
    "                \"BFSK\",\n",
    "                \"4FSK\",\n",
    "                \"8FSK\",\n",
    "            ]\n",
    "snr_classes = np.arange(-20., 32., 2) # -20dB to 30dB"
   ]
  },
  {
   "cell_type": "code",
   "execution_count": 21,
   "metadata": {},
   "outputs": [
    {
     "name": "stdout",
     "output_type": "stream",
     "text": [
      "(2875392, 1024, 2)\n",
      "(2875392,)\n",
      "(2875392,)\n",
      "287820\n"
     ]
    }
   ],
   "source": [
    "print(data_h5.shape)\n",
    "print(label_mod.shape)\n",
    "print(label_snr.shape)\n",
    "print(len(test_indices))"
   ]
  },
  {
   "cell_type": "markdown",
   "metadata": {},
   "source": [
    "# Inspect a single frame"
   ]
  },
  {
   "cell_type": "code",
   "execution_count": 7,
   "metadata": {},
   "outputs": [
    {
     "name": "stdout",
     "output_type": "stream",
     "text": [
      "Modulation: 16QAM, SNR: 30.0 dB\n"
     ]
    },
    {
     "data": {
      "image/png": "[encoded data removed]",
      "text/plain": [
       "<Figure size 432x288 with 1 Axes>"
      ]
     },
     "metadata": {
      "needs_background": "light"
     },
     "output_type": "display_data"
    }
   ],
   "source": [
    "%matplotlib inline\n",
    "from matplotlib import pyplot as plt\n",
    "\n",
    "# Inspect a frame\n",
    "mod = 12 # 0 to 26\n",
    "snr_idx = 25 # 0 to 25 = -20dB to +30dB\n",
    "sample = 123 # 0 to 4095\n",
    "#-----------------------#\n",
    "idx = 26*4096*mod + 4096*snr_idx + sample\n",
    "data, mod, snr = data_h5[idx], label_mod[idx], label_snr[idx]\n",
    "plt.figure()\n",
    "plt.plot(data)\n",
    "print(\"Modulation: %s, SNR: %.1f dB\" % (mod_classes[mod], snr))"
   ]
  },
  {
   "cell_type": "markdown",
   "metadata": {},
   "source": [
    "# Input quantization\n",
    "Quantize input data on-the-fly in software before feeding it to the accelerator. Use the uniform quantization range on which the model was trained."
   ]
  },
  {
   "cell_type": "code",
   "execution_count": 12,
   "metadata": {},
   "outputs": [],
   "source": [
    "def quantize(data):\n",
    "    # quant_min = -128.0\n",
    "    # quant_max = 127\n",
    "    # quant_range = quant_max - quant_min\n",
    "    # data_quant = (data - quant_min) / quant_range\n",
    "    # data_quant = np.round(data_quant * 256) - 128\n",
    "    # data_quant = np.clip(data_quant, -128, 127)\n",
    "    data_quant=data\n",
    "    data_quant = data_quant.astype(np.int8)\n",
    "    return data_quant"
   ]
  },
  {
   "cell_type": "markdown",
   "metadata": {},
   "source": [
    "# Classify a single frame"
   ]
  },
  {
   "cell_type": "code",
   "execution_count": 13,
   "metadata": {},
   "outputs": [
    {
     "name": "stdout",
     "output_type": "stream",
     "text": [
      "Input buffer shape is (1, 1024, 1, 2) and datatype is int8\n"
     ]
    }
   ],
   "source": [
    "accel_in = quantize(data).reshape(accel.ishape_normal())\n",
    "print(\"Input buffer shape is %s and datatype is %s\" % (str(accel_in.shape), str(accel_in.dtype)))"
   ]
  },
  {
   "cell_type": "code",
   "execution_count": 14,
   "metadata": {},
   "outputs": [],
   "source": [
    "accel_out = accel.execute(accel_in)"
   ]
  },
  {
   "cell_type": "code",
   "execution_count": 15,
   "metadata": {},
   "outputs": [
    {
     "name": "stdout",
     "output_type": "stream",
     "text": [
      "Result: [[12.]]\n",
      "Top-1 class predicted by the accelerator: 16QAM\n"
     ]
    }
   ],
   "source": [
    "print(\"Result: \" + str(accel_out))\n",
    "print(\"Top-1 class predicted by the accelerator: \" + mod_classes[int(accel_out)])"
   ]
  },
  {
   "cell_type": "code",
   "execution_count": 13,
   "metadata": {},
   "outputs": [
    {
     "name": "stdout",
     "output_type": "stream",
     "text": [
      "1.5 ms ± 1.19 µs per loop (mean ± std. dev. of 7 runs, 1,000 loops each)\n"
     ]
    }
   ],
   "source": [
    "%%timeit\n",
    "accel_out = accel.execute(accel_in)"
   ]
  },
  {
   "cell_type": "markdown",
   "metadata": {},
   "source": [
    "# Validate accuracy on entire test set"
   ]
  },
  {
   "cell_type": "code",
   "execution_count": 22,
   "metadata": {},
   "outputs": [
    {
     "name": "stdout",
     "output_type": "stream",
     "text": [
      "Accelerator buffer shapes are (1024, 1024, 1, 1, 2) for input, (1024, 1, 1) for output\n",
      "Accelerator buffer shapes are (1024, 1024, 1, 1, 2) for input, (1024, 1, 1) for output\n",
      "Accelerator buffer shapes are (1024, 1024, 1, 2) for input, (1024, 1) for output\n"
     ]
    }
   ],
   "source": [
    "batch_size = 1024\n",
    "accel.batch_size = batch_size\n",
    "print(\"Accelerator buffer shapes are %s for input, %s for output\" % (str(accel.ishape_packed()), str(accel.oshape_packed())))\n",
    "print(\"Accelerator buffer shapes are %s for input, %s for output\" % (str(accel.ishape_folded()), str(accel.oshape_folded())))\n",
    "print(\"Accelerator buffer shapes are %s for input, %s for output\" % (str(accel.ishape_normal()), str(accel.oshape_normal())))"
   ]
  },
  {
   "cell_type": "code",
   "execution_count": 23,
   "metadata": {},
   "outputs": [
    {
     "name": "stdout",
     "output_type": "stream",
     "text": [
      "batch 0 : total OK 35 | NOK 989 | Time: 0.42 seconds\n",
      "batch 1 : total OK 126 | NOK 1922 | Time: 0.42 seconds\n",
      "batch 2 : total OK 660 | NOK 2412 | Time: 0.42 seconds\n",
      "batch 3 : total OK 1587 | NOK 2509 | Time: 0.42 seconds\n",
      "batch 4 : total OK 2609 | NOK 2511 | Time: 0.42 seconds\n",
      "batch 5 : total OK 3633 | NOK 2511 | Time: 0.42 seconds\n",
      "batch 6 : total OK 4657 | NOK 2511 | Time: 0.42 seconds\n",
      "batch 7 : total OK 5681 | NOK 2511 | Time: 0.42 seconds\n",
      "batch 8 : total OK 6705 | NOK 2511 | Time: 0.42 seconds\n",
      "batch 9 : total OK 7729 | NOK 2511 | Time: 0.42 seconds\n",
      "batch 10 : total OK 8167 | NOK 3097 | Time: 0.42 seconds\n",
      "batch 11 : total OK 8193 | NOK 4095 | Time: 0.42 seconds\n",
      "batch 12 : total OK 8288 | NOK 5024 | Time: 0.42 seconds\n",
      "batch 13 : total OK 8534 | NOK 5802 | Time: 0.42 seconds\n",
      "batch 14 : total OK 9280 | NOK 6080 | Time: 0.42 seconds\n",
      "batch 15 : total OK 10223 | NOK 6161 | Time: 0.42 seconds\n",
      "batch 16 : total OK 11245 | NOK 6163 | Time: 0.42 seconds\n",
      "batch 17 : total OK 12268 | NOK 6164 | Time: 0.42 seconds\n",
      "batch 18 : total OK 13291 | NOK 6165 | Time: 0.42 seconds\n",
      "batch 19 : total OK 14313 | NOK 6167 | Time: 0.42 seconds\n",
      "batch 20 : total OK 15175 | NOK 6329 | Time: 0.42 seconds\n",
      "batch 21 : total OK 15307 | NOK 7221 | Time: 0.42 seconds\n",
      "batch 22 : total OK 15570 | NOK 7982 | Time: 0.42 seconds\n",
      "batch 23 : total OK 16080 | NOK 8496 | Time: 0.42 seconds\n",
      "batch 24 : total OK 16744 | NOK 8856 | Time: 0.42 seconds\n",
      "batch 25 : total OK 17621 | NOK 9003 | Time: 0.42 seconds\n",
      "batch 26 : total OK 18619 | NOK 9029 | Time: 0.42 seconds\n",
      "batch 27 : total OK 19634 | NOK 9038 | Time: 0.42 seconds\n",
      "batch 28 : total OK 20651 | NOK 9045 | Time: 0.42 seconds\n",
      "batch 29 : total OK 21666 | NOK 9054 | Time: 0.42 seconds\n",
      "batch 30 : total OK 22684 | NOK 9060 | Time: 0.42 seconds\n",
      "batch 31 : total OK 22923 | NOK 9845 | Time: 0.42 seconds\n",
      "batch 32 : total OK 22937 | NOK 10855 | Time: 0.42 seconds\n",
      "batch 33 : total OK 23070 | NOK 11746 | Time: 0.42 seconds\n",
      "batch 34 : total OK 23923 | NOK 11917 | Time: 0.42 seconds\n",
      "batch 35 : total OK 24947 | NOK 11917 | Time: 0.42 seconds\n",
      "batch 36 : total OK 25971 | NOK 11917 | Time: 0.42 seconds\n",
      "batch 37 : total OK 26995 | NOK 11917 | Time: 0.42 seconds\n",
      "batch 38 : total OK 28019 | NOK 11917 | Time: 0.42 seconds\n",
      "batch 39 : total OK 29043 | NOK 11917 | Time: 0.42 seconds\n",
      "batch 40 : total OK 30067 | NOK 11917 | Time: 0.42 seconds\n",
      "batch 41 : total OK 30786 | NOK 12222 | Time: 0.42 seconds\n",
      "batch 42 : total OK 30961 | NOK 13071 | Time: 0.42 seconds\n",
      "batch 43 : total OK 31096 | NOK 13960 | Time: 0.42 seconds\n",
      "batch 44 : total OK 31109 | NOK 14971 | Time: 0.42 seconds\n",
      "batch 45 : total OK 31472 | NOK 15632 | Time: 0.42 seconds\n",
      "batch 46 : total OK 32486 | NOK 15642 | Time: 0.42 seconds\n",
      "batch 47 : total OK 33509 | NOK 15643 | Time: 0.42 seconds\n",
      "batch 48 : total OK 34529 | NOK 15647 | Time: 0.42 seconds\n",
      "batch 49 : total OK 35552 | NOK 15648 | Time: 0.42 seconds\n",
      "batch 50 : total OK 36575 | NOK 15649 | Time: 0.42 seconds\n",
      "batch 51 : total OK 37599 | NOK 15649 | Time: 0.42 seconds\n",
      "batch 52 : total OK 37688 | NOK 16584 | Time: 0.42 seconds\n",
      "batch 53 : total OK 37717 | NOK 17579 | Time: 0.42 seconds\n",
      "batch 54 : total OK 37744 | NOK 18576 | Time: 0.42 seconds\n",
      "batch 55 : total OK 37744 | NOK 19600 | Time: 0.42 seconds\n",
      "batch 56 : total OK 38100 | NOK 20268 | Time: 0.42 seconds\n",
      "batch 57 : total OK 39103 | NOK 20289 | Time: 0.42 seconds\n",
      "batch 58 : total OK 40127 | NOK 20289 | Time: 0.42 seconds\n",
      "batch 59 : total OK 41151 | NOK 20289 | Time: 0.42 seconds\n",
      "batch 60 : total OK 42175 | NOK 20289 | Time: 0.42 seconds\n",
      "batch 61 : total OK 43199 | NOK 20289 | Time: 0.42 seconds\n",
      "batch 62 : total OK 43671 | NOK 20841 | Time: 0.42 seconds\n",
      "batch 63 : total OK 43671 | NOK 21865 | Time: 0.42 seconds\n",
      "batch 64 : total OK 43675 | NOK 22885 | Time: 0.42 seconds\n",
      "batch 65 : total OK 43740 | NOK 23844 | Time: 0.42 seconds\n",
      "batch 66 : total OK 43968 | NOK 24640 | Time: 0.42 seconds\n",
      "batch 67 : total OK 44179 | NOK 25453 | Time: 0.42 seconds\n",
      "batch 68 : total OK 45093 | NOK 25563 | Time: 0.42 seconds\n",
      "batch 69 : total OK 46099 | NOK 25581 | Time: 0.42 seconds\n",
      "batch 70 : total OK 47108 | NOK 25596 | Time: 0.42 seconds\n",
      "batch 71 : total OK 48123 | NOK 25605 | Time: 0.42 seconds\n",
      "batch 72 : total OK 48997 | NOK 25755 | Time: 0.42 seconds\n",
      "batch 73 : total OK 48997 | NOK 26779 | Time: 0.42 seconds\n",
      "batch 74 : total OK 48997 | NOK 27803 | Time: 0.42 seconds\n",
      "batch 75 : total OK 49004 | NOK 28820 | Time: 0.42 seconds\n",
      "batch 76 : total OK 49072 | NOK 29776 | Time: 0.42 seconds\n",
      "batch 77 : total OK 49867 | NOK 30005 | Time: 0.42 seconds\n",
      "batch 78 : total OK 50837 | NOK 30059 | Time: 0.42 seconds\n",
      "batch 79 : total OK 51853 | NOK 30067 | Time: 0.42 seconds\n",
      "batch 80 : total OK 52875 | NOK 30069 | Time: 0.42 seconds\n",
      "batch 81 : total OK 53892 | NOK 30076 | Time: 0.42 seconds\n",
      "batch 82 : total OK 54914 | NOK 30078 | Time: 0.42 seconds\n",
      "batch 83 : total OK 55229 | NOK 30787 | Time: 0.42 seconds\n",
      "batch 84 : total OK 55273 | NOK 31767 | Time: 0.42 seconds\n",
      "batch 85 : total OK 55309 | NOK 32755 | Time: 0.42 seconds\n",
      "batch 86 : total OK 55347 | NOK 33741 | Time: 0.42 seconds\n",
      "batch 87 : total OK 55984 | NOK 34128 | Time: 0.42 seconds\n",
      "batch 88 : total OK 56983 | NOK 34153 | Time: 0.42 seconds\n",
      "batch 89 : total OK 58007 | NOK 34153 | Time: 0.42 seconds\n",
      "batch 90 : total OK 59031 | NOK 34153 | Time: 0.42 seconds\n",
      "batch 91 : total OK 60055 | NOK 34153 | Time: 0.42 seconds\n",
      "batch 92 : total OK 61079 | NOK 34153 | Time: 0.42 seconds\n",
      "batch 93 : total OK 61787 | NOK 34469 | Time: 0.42 seconds\n",
      "batch 94 : total OK 61789 | NOK 35491 | Time: 0.42 seconds\n",
      "batch 95 : total OK 61791 | NOK 36513 | Time: 0.42 seconds\n",
      "batch 96 : total OK 61801 | NOK 37527 | Time: 0.42 seconds\n",
      "batch 97 : total OK 61938 | NOK 38414 | Time: 0.42 seconds\n",
      "batch 98 : total OK 62613 | NOK 38763 | Time: 0.42 seconds\n",
      "batch 99 : total OK 63629 | NOK 38771 | Time: 0.42 seconds\n",
      "batch 100 : total OK 64652 | NOK 38772 | Time: 0.42 seconds\n",
      "batch 101 : total OK 65675 | NOK 38773 | Time: 0.42 seconds\n",
      "batch 102 : total OK 66699 | NOK 38773 | Time: 0.42 seconds\n",
      "batch 103 : total OK 67723 | NOK 38773 | Time: 0.42 seconds\n",
      "batch 104 : total OK 67827 | NOK 39693 | Time: 0.42 seconds\n",
      "batch 105 : total OK 67827 | NOK 40717 | Time: 0.42 seconds\n",
      "batch 106 : total OK 67827 | NOK 41741 | Time: 0.42 seconds\n",
      "batch 107 : total OK 67832 | NOK 42760 | Time: 0.42 seconds\n",
      "batch 108 : total OK 67923 | NOK 43693 | Time: 0.42 seconds\n",
      "batch 109 : total OK 68494 | NOK 44146 | Time: 0.42 seconds\n",
      "batch 110 : total OK 69436 | NOK 44228 | Time: 0.42 seconds\n",
      "batch 111 : total OK 70404 | NOK 44284 | Time: 0.42 seconds\n",
      "batch 112 : total OK 71378 | NOK 44334 | Time: 0.42 seconds\n",
      "batch 113 : total OK 72356 | NOK 44380 | Time: 0.42 seconds\n",
      "batch 114 : total OK 72850 | NOK 44910 | Time: 0.42 seconds\n",
      "batch 115 : total OK 72861 | NOK 45923 | Time: 0.42 seconds\n",
      "batch 116 : total OK 72869 | NOK 46939 | Time: 0.42 seconds\n",
      "batch 117 : total OK 72953 | NOK 47879 | Time: 0.42 seconds\n",
      "batch 118 : total OK 73097 | NOK 48759 | Time: 0.42 seconds\n",
      "batch 119 : total OK 73528 | NOK 49352 | Time: 0.42 seconds\n",
      "batch 120 : total OK 74361 | NOK 49543 | Time: 0.42 seconds\n",
      "batch 121 : total OK 75299 | NOK 49629 | Time: 0.42 seconds\n",
      "batch 122 : total OK 76248 | NOK 49704 | Time: 0.42 seconds\n",
      "batch 123 : total OK 77196 | NOK 49780 | Time: 0.42 seconds\n",
      "batch 124 : total OK 78055 | NOK 49945 | Time: 0.42 seconds\n",
      "batch 125 : total OK 78055 | NOK 50969 | Time: 0.42 seconds\n",
      "batch 126 : total OK 78055 | NOK 51993 | Time: 0.42 seconds\n",
      "batch 127 : total OK 78057 | NOK 53015 | Time: 0.42 seconds\n",
      "batch 128 : total OK 78099 | NOK 53997 | Time: 0.42 seconds\n",
      "batch 129 : total OK 78578 | NOK 54542 | Time: 0.42 seconds\n",
      "batch 130 : total OK 79569 | NOK 54575 | Time: 0.42 seconds\n",
      "batch 131 : total OK 80593 | NOK 54575 | Time: 0.42 seconds\n",
      "batch 132 : total OK 81615 | NOK 54577 | Time: 0.42 seconds\n",
      "batch 133 : total OK 82638 | NOK 54578 | Time: 0.42 seconds\n",
      "batch 134 : total OK 83662 | NOK 54578 | Time: 0.42 seconds\n",
      "batch 135 : total OK 84002 | NOK 55262 | Time: 0.42 seconds\n",
      "batch 136 : total OK 84006 | NOK 56282 | Time: 0.42 seconds\n",
      "batch 137 : total OK 84012 | NOK 57300 | Time: 0.42 seconds\n",
      "batch 138 : total OK 84020 | NOK 58316 | Time: 0.42 seconds\n",
      "batch 139 : total OK 84189 | NOK 59171 | Time: 0.42 seconds\n",
      "batch 140 : total OK 84710 | NOK 59674 | Time: 0.42 seconds\n",
      "batch 141 : total OK 85631 | NOK 59777 | Time: 0.42 seconds\n",
      "batch 142 : total OK 86605 | NOK 59827 | Time: 0.42 seconds\n",
      "batch 143 : total OK 87584 | NOK 59872 | Time: 0.42 seconds\n",
      "batch 144 : total OK 88562 | NOK 59918 | Time: 0.42 seconds\n",
      "batch 145 : total OK 89291 | NOK 60213 | Time: 0.42 seconds\n",
      "batch 146 : total OK 89291 | NOK 61237 | Time: 0.42 seconds\n",
      "batch 147 : total OK 89293 | NOK 62259 | Time: 0.42 seconds\n",
      "batch 148 : total OK 89294 | NOK 63282 | Time: 0.42 seconds\n",
      "batch 149 : total OK 89399 | NOK 64201 | Time: 0.42 seconds\n",
      "batch 150 : total OK 89477 | NOK 65147 | Time: 0.42 seconds\n",
      "batch 151 : total OK 89902 | NOK 65746 | Time: 0.42 seconds\n",
      "batch 152 : total OK 90578 | NOK 66094 | Time: 0.42 seconds\n",
      "batch 153 : total OK 91313 | NOK 66383 | Time: 0.42 seconds\n",
      "batch 154 : total OK 92047 | NOK 66673 | Time: 0.42 seconds\n",
      "batch 155 : total OK 92764 | NOK 66980 | Time: 0.42 seconds\n",
      "batch 156 : total OK 92878 | NOK 67890 | Time: 0.42 seconds\n",
      "batch 157 : total OK 92878 | NOK 68914 | Time: 0.42 seconds\n",
      "batch 158 : total OK 92879 | NOK 69937 | Time: 0.42 seconds\n",
      "batch 159 : total OK 92885 | NOK 70955 | Time: 0.42 seconds\n",
      "batch 160 : total OK 92921 | NOK 71943 | Time: 0.42 seconds\n",
      "batch 161 : total OK 93327 | NOK 72561 | Time: 0.42 seconds\n",
      "batch 162 : total OK 94063 | NOK 72849 | Time: 0.42 seconds\n",
      "batch 163 : total OK 94825 | NOK 73111 | Time: 0.42 seconds\n",
      "batch 164 : total OK 95588 | NOK 73372 | Time: 0.42 seconds\n",
      "batch 165 : total OK 96375 | NOK 73609 | Time: 0.42 seconds\n",
      "batch 166 : total OK 96810 | NOK 74198 | Time: 0.42 seconds\n",
      "batch 167 : total OK 96810 | NOK 75222 | Time: 0.42 seconds\n",
      "batch 168 : total OK 96810 | NOK 76246 | Time: 0.42 seconds\n",
      "batch 169 : total OK 96814 | NOK 77266 | Time: 0.42 seconds\n",
      "batch 170 : total OK 96908 | NOK 78196 | Time: 0.42 seconds\n",
      "batch 171 : total OK 97376 | NOK 78752 | Time: 0.42 seconds\n",
      "batch 172 : total OK 97961 | NOK 79191 | Time: 0.42 seconds\n",
      "batch 173 : total OK 98607 | NOK 79569 | Time: 0.42 seconds\n",
      "batch 174 : total OK 99250 | NOK 79950 | Time: 0.42 seconds\n",
      "batch 175 : total OK 99904 | NOK 80320 | Time: 0.42 seconds\n",
      "batch 176 : total OK 100537 | NOK 80711 | Time: 0.42 seconds\n",
      "batch 177 : total OK 100547 | NOK 81725 | Time: 0.42 seconds\n",
      "batch 178 : total OK 100579 | NOK 82717 | Time: 0.42 seconds\n",
      "batch 179 : total OK 100840 | NOK 83480 | Time: 0.42 seconds\n",
      "batch 180 : total OK 101655 | NOK 83689 | Time: 0.42 seconds\n",
      "batch 181 : total OK 102449 | NOK 83919 | Time: 0.42 seconds\n",
      "batch 182 : total OK 103393 | NOK 83999 | Time: 0.42 seconds\n",
      "batch 183 : total OK 104359 | NOK 84057 | Time: 0.42 seconds\n",
      "batch 184 : total OK 105313 | NOK 84127 | Time: 0.42 seconds\n",
      "batch 185 : total OK 106289 | NOK 84175 | Time: 0.42 seconds\n",
      "batch 186 : total OK 107258 | NOK 84230 | Time: 0.42 seconds\n",
      "batch 187 : total OK 107699 | NOK 84813 | Time: 0.42 seconds\n",
      "batch 188 : total OK 107850 | NOK 85686 | Time: 0.42 seconds\n",
      "batch 189 : total OK 108386 | NOK 86174 | Time: 0.42 seconds\n",
      "batch 190 : total OK 109331 | NOK 86253 | Time: 0.42 seconds\n",
      "batch 191 : total OK 110352 | NOK 86256 | Time: 0.42 seconds\n",
      "batch 192 : total OK 111374 | NOK 86258 | Time: 0.42 seconds\n",
      "batch 193 : total OK 112397 | NOK 86259 | Time: 0.42 seconds\n",
      "batch 194 : total OK 113420 | NOK 86260 | Time: 0.42 seconds\n",
      "batch 195 : total OK 114441 | NOK 86263 | Time: 0.42 seconds\n",
      "batch 196 : total OK 115465 | NOK 86263 | Time: 0.42 seconds\n",
      "batch 197 : total OK 116277 | NOK 86475 | Time: 0.42 seconds\n",
      "batch 198 : total OK 116286 | NOK 87490 | Time: 0.42 seconds\n",
      "batch 199 : total OK 116410 | NOK 88390 | Time: 0.42 seconds\n",
      "batch 200 : total OK 116839 | NOK 88985 | Time: 0.42 seconds\n",
      "batch 201 : total OK 117231 | NOK 89617 | Time: 0.42 seconds\n",
      "batch 202 : total OK 117994 | NOK 89878 | Time: 0.42 seconds\n",
      "batch 203 : total OK 118926 | NOK 89970 | Time: 0.42 seconds\n",
      "batch 204 : total OK 119890 | NOK 90030 | Time: 0.42 seconds\n",
      "batch 205 : total OK 120850 | NOK 90094 | Time: 0.42 seconds\n",
      "batch 206 : total OK 121798 | NOK 90170 | Time: 0.42 seconds\n",
      "batch 207 : total OK 122754 | NOK 90238 | Time: 0.42 seconds\n",
      "batch 208 : total OK 122951 | NOK 91065 | Time: 0.42 seconds\n",
      "batch 209 : total OK 123008 | NOK 92032 | Time: 0.42 seconds\n",
      "batch 210 : total OK 123462 | NOK 92602 | Time: 0.42 seconds\n",
      "batch 211 : total OK 124399 | NOK 92689 | Time: 0.42 seconds\n",
      "batch 212 : total OK 125413 | NOK 92699 | Time: 0.42 seconds\n",
      "batch 213 : total OK 126434 | NOK 92702 | Time: 0.42 seconds\n",
      "batch 214 : total OK 127456 | NOK 92704 | Time: 0.42 seconds\n",
      "batch 215 : total OK 128476 | NOK 92708 | Time: 0.42 seconds\n",
      "batch 216 : total OK 129494 | NOK 92714 | Time: 0.42 seconds\n",
      "batch 217 : total OK 130517 | NOK 92715 | Time: 0.42 seconds\n",
      "batch 218 : total OK 131158 | NOK 93098 | Time: 0.42 seconds\n",
      "batch 219 : total OK 131212 | NOK 94068 | Time: 0.42 seconds\n",
      "batch 220 : total OK 131482 | NOK 94822 | Time: 0.42 seconds\n",
      "batch 221 : total OK 132401 | NOK 94927 | Time: 0.42 seconds\n",
      "batch 222 : total OK 133413 | NOK 94939 | Time: 0.42 seconds\n",
      "batch 223 : total OK 134436 | NOK 94940 | Time: 0.42 seconds\n",
      "batch 224 : total OK 135460 | NOK 94940 | Time: 0.42 seconds\n",
      "batch 225 : total OK 136484 | NOK 94940 | Time: 0.42 seconds\n",
      "batch 226 : total OK 137508 | NOK 94940 | Time: 0.42 seconds\n",
      "batch 227 : total OK 138532 | NOK 94940 | Time: 0.42 seconds\n",
      "batch 228 : total OK 139556 | NOK 94940 | Time: 0.42 seconds\n",
      "batch 229 : total OK 139588 | NOK 95932 | Time: 0.42 seconds\n",
      "batch 230 : total OK 139611 | NOK 96933 | Time: 0.42 seconds\n",
      "batch 231 : total OK 139754 | NOK 97814 | Time: 0.42 seconds\n",
      "batch 232 : total OK 140566 | NOK 98026 | Time: 0.42 seconds\n",
      "batch 233 : total OK 141590 | NOK 98026 | Time: 0.42 seconds\n",
      "batch 234 : total OK 142614 | NOK 98026 | Time: 0.42 seconds\n",
      "batch 235 : total OK 143638 | NOK 98026 | Time: 0.42 seconds\n",
      "batch 236 : total OK 144662 | NOK 98026 | Time: 0.42 seconds\n",
      "batch 237 : total OK 145686 | NOK 98026 | Time: 0.42 seconds\n",
      "batch 238 : total OK 146710 | NOK 98026 | Time: 0.42 seconds\n",
      "batch 239 : total OK 147163 | NOK 98597 | Time: 0.42 seconds\n",
      "batch 240 : total OK 147179 | NOK 99605 | Time: 0.42 seconds\n",
      "batch 241 : total OK 147223 | NOK 100585 | Time: 0.42 seconds\n",
      "batch 242 : total OK 147408 | NOK 101424 | Time: 0.42 seconds\n",
      "batch 243 : total OK 148070 | NOK 101786 | Time: 0.42 seconds\n",
      "batch 244 : total OK 149090 | NOK 101790 | Time: 0.42 seconds\n",
      "batch 245 : total OK 150114 | NOK 101790 | Time: 0.42 seconds\n",
      "batch 246 : total OK 151138 | NOK 101790 | Time: 0.42 seconds\n",
      "batch 247 : total OK 152162 | NOK 101790 | Time: 0.42 seconds\n",
      "batch 248 : total OK 153186 | NOK 101790 | Time: 0.42 seconds\n",
      "batch 249 : total OK 154113 | NOK 101887 | Time: 0.42 seconds\n",
      "batch 250 : total OK 154484 | NOK 102540 | Time: 0.42 seconds\n",
      "batch 251 : total OK 154930 | NOK 103118 | Time: 0.42 seconds\n",
      "batch 252 : total OK 155709 | NOK 103363 | Time: 0.42 seconds\n",
      "batch 253 : total OK 156732 | NOK 103364 | Time: 0.42 seconds\n",
      "batch 254 : total OK 157756 | NOK 103364 | Time: 0.42 seconds\n",
      "batch 255 : total OK 158780 | NOK 103364 | Time: 0.42 seconds\n",
      "batch 256 : total OK 159804 | NOK 103364 | Time: 0.42 seconds\n",
      "batch 257 : total OK 160828 | NOK 103364 | Time: 0.42 seconds\n",
      "batch 258 : total OK 161852 | NOK 103364 | Time: 0.42 seconds\n",
      "batch 259 : total OK 162876 | NOK 103364 | Time: 0.42 seconds\n",
      "batch 260 : total OK 163168 | NOK 104096 | Time: 0.42 seconds\n",
      "batch 261 : total OK 163218 | NOK 105070 | Time: 0.42 seconds\n",
      "batch 262 : total OK 163364 | NOK 105948 | Time: 0.42 seconds\n",
      "batch 263 : total OK 163830 | NOK 106506 | Time: 0.42 seconds\n",
      "batch 264 : total OK 164617 | NOK 106743 | Time: 0.42 seconds\n",
      "batch 265 : total OK 165594 | NOK 106790 | Time: 0.42 seconds\n",
      "batch 266 : total OK 166617 | NOK 106791 | Time: 0.42 seconds\n",
      "batch 267 : total OK 167640 | NOK 106792 | Time: 0.42 seconds\n",
      "batch 268 : total OK 168664 | NOK 106792 | Time: 0.42 seconds\n",
      "batch 269 : total OK 169687 | NOK 106793 | Time: 0.42 seconds\n",
      "batch 270 : total OK 170366 | NOK 107138 | Time: 0.42 seconds\n",
      "batch 271 : total OK 170367 | NOK 108161 | Time: 0.42 seconds\n",
      "batch 272 : total OK 170370 | NOK 109182 | Time: 0.42 seconds\n",
      "batch 273 : total OK 170398 | NOK 110178 | Time: 0.42 seconds\n",
      "batch 274 : total OK 171014 | NOK 110586 | Time: 0.42 seconds\n",
      "batch 275 : total OK 172026 | NOK 110598 | Time: 0.42 seconds\n",
      "batch 276 : total OK 173050 | NOK 110598 | Time: 0.42 seconds\n",
      "batch 277 : total OK 174074 | NOK 110598 | Time: 0.42 seconds\n",
      "batch 278 : total OK 175098 | NOK 110598 | Time: 0.42 seconds\n",
      "batch 279 : total OK 176122 | NOK 110598 | Time: 0.42 seconds\n",
      "batch 280 : total OK 177146 | NOK 110598 | Time: 0.42 seconds\n",
      "batch 281 : total OK 177222 | NOK 110598 | Time: 0.03 seconds\n",
      "total time:  118.82065773010254  seconds\n"
     ]
    }
   ],
   "source": [
    "import time\n",
    "ok = 0\n",
    "nok = 0\n",
    "total = len(test_indices)\n",
    "timer=0\n",
    "for i_batch in range(math.ceil(total/batch_size)):\n",
    "    i_frame = i_batch*batch_size\n",
    "    if i_frame+batch_size > total:\n",
    "        batch_size = total - i_frame\n",
    "        accel.batch_size = batch_size\n",
    "    batch_indices = test_indices[i_frame:i_frame+batch_size]\n",
    "    data, mod, snr = data_h5[batch_indices], label_mod[batch_indices], label_snr[batch_indices]\n",
    "    \n",
    "    ibuf = quantize(data).reshape(accel.ishape_normal())\n",
    "    \n",
    "    start_time=time.time()\n",
    "    obuf = accel.execute(ibuf)\n",
    "    batch_time=time.time()-start_time\n",
    "    timer+=batch_time\n",
    "    \n",
    "    pred = obuf.reshape(batch_size).astype(int)\n",
    "\n",
    "    ok += np.equal(pred, mod).sum().item()\n",
    "    nok += np.not_equal(pred, mod).sum().item()\n",
    "    \n",
    "    print(\"batch %d : total OK %d | NOK %d | Time: %.2f seconds\" % (i_batch, ok, nok, batch_time))\n",
    "    \n",
    "print('total time: ',timer,' seconds')"
   ]
  },
  {
   "cell_type": "code",
   "execution_count": 24,
   "metadata": {},
   "outputs": [
    {
     "name": "stdout",
     "output_type": "stream",
     "text": [
      "Overall top-1 accuracy: 61.57390035438816%\n"
     ]
    }
   ],
   "source": [
    "acc = 100.0 * ok / (total)\n",
    "print(\"Overall top-1 accuracy: {}%\".format(acc))"
   ]
  },
  {
   "cell_type": "markdown",
   "metadata": {},
   "source": [
    "## More benchmarking"
   ]
  },
  {
   "cell_type": "code",
   "execution_count": 19,
   "metadata": {},
   "outputs": [
    {
     "data": {
      "text/plain": [
       "{'runtime[ms]': 420.3033447265625,\n",
       " 'throughput[images/s]': 2436.3355962969686,\n",
       " 'DRAM_in_bandwidth[MB/s]': 4.989615301216191,\n",
       " 'DRAM_out_bandwidth[MB/s]': 0.0024363355962969684,\n",
       " 'fclk[mhz]': 249.9975,\n",
       " 'batch_size': 1024,\n",
       " 'fold_input[ms]': 0.0896453857421875,\n",
       " 'pack_input[ms]': 0.0667572021484375,\n",
       " 'copy_input_data_to_device[ms]': 2.5424957275390625,\n",
       " 'copy_output_data_from_device[ms]': 0.1270771026611328,\n",
       " 'unpack_output[ms]': 0.5090236663818359,\n",
       " 'unfold_output[ms]': 0.064849853515625}"
      ]
     },
     "execution_count": 19,
     "metadata": {},
     "output_type": "execute_result"
    }
   ],
   "source": [
    "accel.batch_size = 1024\n",
    "accel.throughput_test()"
   ]
  }
 ],
 "metadata": {
  "kernelspec": {
   "display_name": "Python 3 (ipykernel)",
   "language": "python",
   "name": "python3"
  },
  "language_info": {
   "codemirror_mode": {
    "name": "ipython",
    "version": 3
   },
   "file_extension": ".py",
   "mimetype": "text/x-python",
   "name": "python",
   "nbconvert_exporter": "python",
   "pygments_lexer": "ipython3",
   "version": "3.10.4"
  }
 },
 "nbformat": 4,
 "nbformat_minor": 4
}
